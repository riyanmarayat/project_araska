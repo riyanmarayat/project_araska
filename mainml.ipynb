{
 "cells": [
  {
   "cell_type": "code",
   "id": "initial_id",
   "metadata": {
    "collapsed": true,
    "ExecuteTime": {
     "end_time": "2025-05-06T08:38:22.372383Z",
     "start_time": "2025-05-06T08:38:22.355399Z"
    }
   },
   "source": [
    "# Install ultralytics\n",
    "\n",
    "# !pip install ultralytics"
   ],
   "outputs": [],
   "execution_count": 1
  },
  {
   "metadata": {
    "ExecuteTime": {
     "end_time": "2025-05-06T08:38:25.609260Z",
     "start_time": "2025-05-06T08:38:22.386890Z"
    }
   },
   "cell_type": "code",
   "source": [
    "# Check if ultralytics is installed correctly\n",
    "import ultralytics\n",
    "from ultralytics.utils.plotting import plot_results\n",
    "\n",
    "print(ultralytics.__version__)"
   ],
   "id": "bcaa6d57286dd473",
   "outputs": [
    {
     "name": "stdout",
     "output_type": "stream",
     "text": [
      "8.3.107\n"
     ]
    }
   ],
   "execution_count": 2
  },
  {
   "metadata": {
    "ExecuteTime": {
     "end_time": "2025-05-06T09:38:46.366295Z",
     "start_time": "2025-05-06T09:38:42.920334Z"
    }
   },
   "cell_type": "code",
   "source": [
    "# When the package gets installed we can run the yolo cli command.\n",
    "# the yolo settings shows us how is the package configured, and some\n",
    "# important directories paths, like:\n",
    "# - datasets_dir: where the datasets are expected to be stored, and\n",
    "# - runs_dir: where the processes are going to store its results\n",
    "#             (like the resulting training files)\n",
    "\n",
    "!yolo settings"
   ],
   "id": "f4063dd2cd0bbba9",
   "outputs": [
    {
     "name": "stdout",
     "output_type": "stream",
     "text": [
      "JSONDict(\"C:\\Users\\LENOVO\\AppData\\Roaming\\Ultralytics\\settings.json\"):\n",
      "{\n",
      "  \"settings_version\": \"0.0.6\",\n",
      "  \"datasets_dir\": \"E:\\\\Project\\\\araska\\\\datasets\\\\v1\",\n",
      "  \"weights_dir\": \"E:\\\\Project\\\\araska\\\\weights\",\n",
      "  \"runs_dir\": \"E:\\\\Project\\\\araska\\\\runs\",\n",
      "  \"uuid\": \"179ad1f76c1d237570f753ae8391f9aaa74fcabfc940d24d8153eae7fb293179\",\n",
      "  \"sync\": true,\n",
      "  \"api_key\": \"\",\n",
      "  \"openai_api_key\": \"\",\n",
      "  \"clearml\": true,\n",
      "  \"comet\": true,\n",
      "  \"dvc\": true,\n",
      "  \"hub\": true,\n",
      "  \"mlflow\": true,\n",
      "  \"neptune\": true,\n",
      "  \"raytune\": true,\n",
      "  \"tensorboard\": true,\n",
      "  \"wandb\": false,\n",
      "  \"vscode_msg\": true\n",
      "}\n",
      "ðŸ’¡ Learn more about Ultralytics Settings at https://docs.ultralytics.com/quickstart/#ultralytics-settings\n"
     ]
    }
   ],
   "execution_count": 8
  },
  {
   "metadata": {
    "ExecuteTime": {
     "end_time": "2025-05-06T09:38:46.985473Z",
     "start_time": "2025-05-06T09:38:46.979626Z"
    }
   },
   "cell_type": "code",
   "source": [
    "from ultralytics import settings\n",
    "# set the datasets_dir to the path where the datasets are stored\n",
    "settings.update({\n",
    "    \"datasets_dir\": r\"E:\\Project\\araska\\datasets\\v1\",\n",
    "    \"weights_dir\": r\"E:\\Project\\araska\\weights\",\n",
    "    \"runs_dir\": r\"E:\\Project\\araska\\runs\"\n",
    "})"
   ],
   "id": "fd27a382c201cc41",
   "outputs": [],
   "execution_count": 9
  },
  {
   "metadata": {
    "ExecuteTime": {
     "end_time": "2025-05-06T09:38:48.894775Z",
     "start_time": "2025-05-06T09:38:48.890626Z"
    }
   },
   "cell_type": "code",
   "source": "###TRAIN MODEL",
   "id": "409432c1ed05f41d",
   "outputs": [],
   "execution_count": 10
  },
  {
   "metadata": {
    "ExecuteTime": {
     "end_time": "2025-05-06T09:38:52.971411Z",
     "start_time": "2025-05-06T09:38:52.881095Z"
    }
   },
   "cell_type": "code",
   "source": [
    "import torch\n",
    "\n",
    "cuda_available = torch.cuda.is_available()\n",
    "\n",
    "if cuda_available:\n",
    "\n",
    "  print(\"CUDA is available\")\n",
    "  !nvidia-smi\n",
    "\n",
    "else:\n",
    "\n",
    "  message = \"\"\"\n",
    "    WARNING: In order to train the model, it is advisable to use GPU.\n",
    "    Change runtime type to GPU from:\n",
    "      menu Runtime -> Change runtime type -> Hardware accelerator -> GPU.\n",
    "      And run all the cells again.\n",
    "  \"\"\"\n",
    "  print(message)"
   ],
   "id": "78e1ccdbb56ab579",
   "outputs": [
    {
     "name": "stdout",
     "output_type": "stream",
     "text": [
      "CUDA is available\n",
      "Tue May  6 16:38:52 2025       \n",
      "+-----------------------------------------------------------------------------------------+\n",
      "| NVIDIA-SMI 555.99                 Driver Version: 555.99         CUDA Version: 12.5     |\n",
      "|-----------------------------------------+------------------------+----------------------+\n",
      "| GPU  Name                  Driver-Model | Bus-Id          Disp.A | Volatile Uncorr. ECC |\n",
      "| Fan  Temp   Perf          Pwr:Usage/Cap |           Memory-Usage | GPU-Util  Compute M. |\n",
      "|                                         |                        |               MIG M. |\n",
      "|=========================================+========================+======================|\n",
      "|   0  NVIDIA GeForce GTX 1650      WDDM  |   00000000:01:00.0 Off |                  N/A |\n",
      "| N/A   52C    P8              3W /   75W |    2593MiB /   4096MiB |      0%      Default |\n",
      "|                                         |                        |                  N/A |\n",
      "+-----------------------------------------+------------------------+----------------------+\n",
      "                                                                                         \n",
      "+-----------------------------------------------------------------------------------------+\n",
      "| Processes:                                                                              |\n",
      "|  GPU   GI   CI        PID   Type   Process name                              GPU Memory |\n",
      "|        ID   ID                                                               Usage      |\n",
      "|=========================================================================================|\n",
      "|    0   N/A  N/A     20288      C   ...rograms\\Python\\Python312\\python.exe      N/A      |\n",
      "+-----------------------------------------------------------------------------------------+\n"
     ]
    }
   ],
   "execution_count": 11
  },
  {
   "metadata": {
    "ExecuteTime": {
     "end_time": "2025-05-06T09:39:00.627435Z",
     "start_time": "2025-05-06T09:39:00.624021Z"
    }
   },
   "cell_type": "code",
   "source": [
    "def serialized_model_file(\n",
    "    checkpoint=\"best\",\n",
    "    use_run=\"train\",\n",
    "):\n",
    "  \"\"\"\n",
    "    Returns the serialized file path.\n",
    "  \"\"\"\n",
    "  return f\"runs/detect/{use_run}/weights/{checkpoint}.pt\"\n"
   ],
   "id": "f174656ba9defe81",
   "outputs": [],
   "execution_count": 12
  },
  {
   "metadata": {
    "ExecuteTime": {
     "end_time": "2025-05-06T09:46:47.122896Z",
     "start_time": "2025-05-06T09:46:47.116268Z"
    }
   },
   "cell_type": "code",
   "source": [
    "import os\n",
    "from ultralytics import YOLO\n",
    "\n",
    "def train(\n",
    "    data,\n",
    "    use_run=\"train\",\n",
    "    fallback=\"yolo11n.pt\",\n",
    "    epochs=10,\n",
    "    augment=True,\n",
    "):\n",
    "\n",
    "  cuda_available = torch.cuda.is_available()\n",
    "  if not cuda_available:\n",
    "    print(\"CUDA is not available, skipping train.\")\n",
    "    return\n",
    "\n",
    "  model_file = serialized_model_file(\"last\", use_run)\n",
    "\n",
    "  if os.path.exists(model_file):\n",
    "    resume_training = True\n",
    "    use_model = model_file\n",
    "  else:\n",
    "    resume_training = False\n",
    "    use_model=fallback\n",
    "\n",
    "\n",
    "  model = YOLO(\n",
    "      use_model\n",
    "  )\n",
    "\n",
    "  model.train(\n",
    "      data=data,\n",
    "      resume=resume_training,\n",
    "      epochs=epochs,\n",
    "      optimizer=\"AdamW\",\n",
    "      lr0=0.0001,\n",
    "      imgsz=640,\n",
    "      batch=4,\n",
    "      augment=augment,\n",
    "      device=\"cpu\"\n",
    "  )"
   ],
   "id": "28d803706912d440",
   "outputs": [],
   "execution_count": 21
  },
  {
   "metadata": {
    "ExecuteTime": {
     "end_time": "2025-05-06T09:46:13.985498Z",
     "start_time": "2025-05-06T09:46:10.174551Z"
    }
   },
   "cell_type": "code",
   "source": "!yolo settings",
   "id": "1e512a22d53e9f2e",
   "outputs": [
    {
     "name": "stdout",
     "output_type": "stream",
     "text": [
      "JSONDict(\"C:\\Users\\LENOVO\\AppData\\Roaming\\Ultralytics\\settings.json\"):\n",
      "{\n",
      "  \"settings_version\": \"0.0.6\",\n",
      "  \"datasets_dir\": \"E:\\\\Project\\\\araska\\\\datasets\\\\v1\",\n",
      "  \"weights_dir\": \"E:\\\\Project\\\\araska\\\\weights\",\n",
      "  \"runs_dir\": \"E:\\\\Project\\\\araska\\\\runs\",\n",
      "  \"uuid\": \"179ad1f76c1d237570f753ae8391f9aaa74fcabfc940d24d8153eae7fb293179\",\n",
      "  \"sync\": true,\n",
      "  \"api_key\": \"\",\n",
      "  \"openai_api_key\": \"\",\n",
      "  \"clearml\": true,\n",
      "  \"comet\": true,\n",
      "  \"dvc\": true,\n",
      "  \"hub\": true,\n",
      "  \"mlflow\": true,\n",
      "  \"neptune\": true,\n",
      "  \"raytune\": true,\n",
      "  \"tensorboard\": true,\n",
      "  \"wandb\": false,\n",
      "  \"vscode_msg\": true\n",
      "}\n",
      "ðŸ’¡ Learn more about Ultralytics Settings at https://docs.ultralytics.com/quickstart/#ultralytics-settings\n"
     ]
    }
   ],
   "execution_count": 18
  },
  {
   "metadata": {
    "ExecuteTime": {
     "end_time": "2025-05-06T09:46:14.004857Z",
     "start_time": "2025-05-06T09:46:13.999253Z"
    }
   },
   "cell_type": "code",
   "source": [
    "import torch\n",
    "print(torch.cuda.is_available())  # Should return True\n",
    "print(torch.cuda.current_device())  # Should return device ID\n",
    "print(torch.cuda.get_device_name(0))  # Should return \"NVIDIA GeForce GTX 1650\"\n"
   ],
   "id": "a47ba256eb388c2d",
   "outputs": [
    {
     "name": "stdout",
     "output_type": "stream",
     "text": [
      "True\n",
      "0\n",
      "NVIDIA GeForce GTX 1650\n"
     ]
    }
   ],
   "execution_count": 19
  },
  {
   "metadata": {
    "ExecuteTime": {
     "end_time": "2025-05-06T10:24:13.168807Z",
     "start_time": "2025-05-06T09:46:51.288105Z"
    }
   },
   "cell_type": "code",
   "source": "train(data=\"E:\\\\Project\\\\araska\\\\datasets\\\\v1\\\\data.yaml\", use_run=None)",
   "id": "c4736c4e86599416",
   "outputs": [
    {
     "name": "stdout",
     "output_type": "stream",
     "text": [
      "New https://pypi.org/project/ultralytics/8.3.127 available  Update with 'pip install -U ultralytics'\n",
      "Ultralytics 8.3.107  Python-3.12.3 torch-2.6.0+cu118 CPU (AMD Ryzen 5 5600H with Radeon Graphics)\n",
      "\u001B[34m\u001B[1mengine\\trainer: \u001B[0mtask=detect, mode=train, model=yolo11n.pt, data=E:\\Project\\araska\\datasets\\v1\\data.yaml, epochs=10, time=None, patience=100, batch=4, imgsz=640, save=True, save_period=-1, cache=False, device=cpu, workers=8, project=None, name=train11, exist_ok=False, pretrained=True, optimizer=AdamW, verbose=True, seed=0, deterministic=True, single_cls=False, rect=False, cos_lr=False, close_mosaic=10, resume=False, amp=True, fraction=1.0, profile=False, freeze=None, multi_scale=False, overlap_mask=True, mask_ratio=4, dropout=0.0, val=True, split=val, save_json=False, conf=None, iou=0.7, max_det=300, half=False, dnn=False, plots=True, source=None, vid_stride=1, stream_buffer=False, visualize=False, augment=True, agnostic_nms=False, classes=None, retina_masks=False, embed=None, show=False, save_frames=False, save_txt=False, save_conf=False, save_crop=False, show_labels=True, show_conf=True, show_boxes=True, line_width=None, format=torchscript, keras=False, optimize=False, int8=False, dynamic=False, simplify=True, opset=None, workspace=None, nms=False, lr0=0.0001, lrf=0.01, momentum=0.937, weight_decay=0.0005, warmup_epochs=3.0, warmup_momentum=0.8, warmup_bias_lr=0.1, box=7.5, cls=0.5, dfl=1.5, pose=12.0, kobj=1.0, nbs=64, hsv_h=0.015, hsv_s=0.7, hsv_v=0.4, degrees=0.0, translate=0.1, scale=0.5, shear=0.0, perspective=0.0, flipud=0.0, fliplr=0.5, bgr=0.0, mosaic=1.0, mixup=0.0, copy_paste=0.0, copy_paste_mode=flip, auto_augment=randaugment, erasing=0.4, crop_fraction=1.0, cfg=None, tracker=botsort.yaml, save_dir=E:\\Project\\araska\\runs\\detect\\train11\n",
      "Overriding model.yaml nc=80 with nc=592\n",
      "\n",
      "                   from  n    params  module                                       arguments                     \n",
      "  0                  -1  1       464  ultralytics.nn.modules.conv.Conv             [3, 16, 3, 2]                 \n",
      "  1                  -1  1      4672  ultralytics.nn.modules.conv.Conv             [16, 32, 3, 2]                \n",
      "  2                  -1  1      6640  ultralytics.nn.modules.block.C3k2            [32, 64, 1, False, 0.25]      \n",
      "  3                  -1  1     36992  ultralytics.nn.modules.conv.Conv             [64, 64, 3, 2]                \n",
      "  4                  -1  1     26080  ultralytics.nn.modules.block.C3k2            [64, 128, 1, False, 0.25]     \n",
      "  5                  -1  1    147712  ultralytics.nn.modules.conv.Conv             [128, 128, 3, 2]              \n",
      "  6                  -1  1     87040  ultralytics.nn.modules.block.C3k2            [128, 128, 1, True]           \n",
      "  7                  -1  1    295424  ultralytics.nn.modules.conv.Conv             [128, 256, 3, 2]              \n",
      "  8                  -1  1    346112  ultralytics.nn.modules.block.C3k2            [256, 256, 1, True]           \n",
      "  9                  -1  1    164608  ultralytics.nn.modules.block.SPPF            [256, 256, 5]                 \n",
      " 10                  -1  1    249728  ultralytics.nn.modules.block.C2PSA           [256, 256, 1]                 \n",
      " 11                  -1  1         0  torch.nn.modules.upsampling.Upsample         [None, 2, 'nearest']          \n",
      " 12             [-1, 6]  1         0  ultralytics.nn.modules.conv.Concat           [1]                           \n",
      " 13                  -1  1    111296  ultralytics.nn.modules.block.C3k2            [384, 128, 1, False]          \n",
      " 14                  -1  1         0  torch.nn.modules.upsampling.Upsample         [None, 2, 'nearest']          \n",
      " 15             [-1, 4]  1         0  ultralytics.nn.modules.conv.Concat           [1]                           \n",
      " 16                  -1  1     32096  ultralytics.nn.modules.block.C3k2            [256, 64, 1, False]           \n",
      " 17                  -1  1     36992  ultralytics.nn.modules.conv.Conv             [64, 64, 3, 2]                \n",
      " 18            [-1, 13]  1         0  ultralytics.nn.modules.conv.Concat           [1]                           \n",
      " 19                  -1  1     86720  ultralytics.nn.modules.block.C3k2            [192, 128, 1, False]          \n",
      " 20                  -1  1    147712  ultralytics.nn.modules.conv.Conv             [128, 128, 3, 2]              \n",
      " 21            [-1, 10]  1         0  ultralytics.nn.modules.conv.Concat           [1]                           \n",
      " 22                  -1  1    378880  ultralytics.nn.modules.block.C3k2            [384, 256, 1, True]           \n",
      " 23        [16, 19, 22]  1    645508  ultralytics.nn.modules.head.Detect           [592, [64, 128, 256]]         \n",
      "YOLO11n summary: 181 layers, 2,804,676 parameters, 2,804,660 gradients, 7.6 GFLOPs\n",
      "\n",
      "Transferred 448/499 items from pretrained weights\n",
      "Freezing layer 'model.23.dfl.conv.weight'\n"
     ]
    },
    {
     "name": "stderr",
     "output_type": "stream",
     "text": [
      "\u001B[34m\u001B[1mtrain: \u001B[0mScanning E:\\Project\\araska\\datasets\\v1\\train\\labels.cache... 565 images, 0 backgrounds, 0 corrupt: 100%|██████████| 565/565 [00:00<?, ?it/s]\n",
      "\u001B[34m\u001B[1mval: \u001B[0mScanning E:\\Project\\araska\\datasets\\v1\\valid\\labels.cache... 61 images, 0 backgrounds, 0 corrupt: 100%|██████████| 61/61 [00:00<?, ?it/s]"
     ]
    },
    {
     "name": "stdout",
     "output_type": "stream",
     "text": [
      "Plotting labels to E:\\Project\\araska\\runs\\detect\\train11\\labels.jpg... \n"
     ]
    },
    {
     "name": "stderr",
     "output_type": "stream",
     "text": [
      "\n"
     ]
    },
    {
     "name": "stdout",
     "output_type": "stream",
     "text": [
      "\u001B[34m\u001B[1moptimizer:\u001B[0m AdamW(lr=0.0001, momentum=0.937) with parameter groups 81 weight(decay=0.0), 88 weight(decay=0.0005), 87 bias(decay=0.0)\n",
      "Image sizes 640 train, 640 val\n",
      "Using 0 dataloader workers\n",
      "Logging results to \u001B[1mE:\\Project\\araska\\runs\\detect\\train11\u001B[0m\n",
      "Starting training for 10 epochs...\n",
      "Closing dataloader mosaic\n",
      "\n",
      "      Epoch    GPU_mem   box_loss   cls_loss   dfl_loss  Instances       Size\n"
     ]
    },
    {
     "name": "stderr",
     "output_type": "stream",
     "text": [
      "       1/10         0G       0.81      5.077     0.8967         16        640: 100%|██████████| 142/142 [03:32<00:00,  1.50s/it]\n",
      "                 Class     Images  Instances      Box(P          R      mAP50  mAP50-95): 100%|██████████| 8/8 [00:14<00:00,  1.81s/it]"
     ]
    },
    {
     "name": "stdout",
     "output_type": "stream",
     "text": [
      "                   all         61       1624     0.0179      0.125     0.0321     0.0275\n"
     ]
    },
    {
     "name": "stderr",
     "output_type": "stream",
     "text": [
      "\n"
     ]
    },
    {
     "name": "stdout",
     "output_type": "stream",
     "text": [
      "\n",
      "      Epoch    GPU_mem   box_loss   cls_loss   dfl_loss  Instances       Size\n"
     ]
    },
    {
     "name": "stderr",
     "output_type": "stream",
     "text": [
      "       2/10         0G     0.6655      4.342     0.8487         18        640: 100%|██████████| 142/142 [03:25<00:00,  1.45s/it]\n",
      "                 Class     Images  Instances      Box(P          R      mAP50  mAP50-95): 100%|██████████| 8/8 [00:13<00:00,  1.72s/it]"
     ]
    },
    {
     "name": "stdout",
     "output_type": "stream",
     "text": [
      "                   all         61       1624       0.35     0.0638     0.0675     0.0566\n"
     ]
    },
    {
     "name": "stderr",
     "output_type": "stream",
     "text": [
      "\n"
     ]
    },
    {
     "name": "stdout",
     "output_type": "stream",
     "text": [
      "\n",
      "      Epoch    GPU_mem   box_loss   cls_loss   dfl_loss  Instances       Size\n"
     ]
    },
    {
     "name": "stderr",
     "output_type": "stream",
     "text": [
      "       3/10         0G     0.6094      4.093     0.8331         16        640: 100%|██████████| 142/142 [03:24<00:00,  1.44s/it]\n",
      "                 Class     Images  Instances      Box(P          R      mAP50  mAP50-95): 100%|██████████| 8/8 [00:13<00:00,  1.68s/it]"
     ]
    },
    {
     "name": "stdout",
     "output_type": "stream",
     "text": [
      "                   all         61       1624      0.365        0.1     0.0883     0.0737\n"
     ]
    },
    {
     "name": "stderr",
     "output_type": "stream",
     "text": [
      "\n"
     ]
    },
    {
     "name": "stdout",
     "output_type": "stream",
     "text": [
      "\n",
      "      Epoch    GPU_mem   box_loss   cls_loss   dfl_loss  Instances       Size\n"
     ]
    },
    {
     "name": "stderr",
     "output_type": "stream",
     "text": [
      "       4/10         0G     0.5838      3.964     0.8301         14        640: 100%|██████████| 142/142 [03:24<00:00,  1.44s/it]\n",
      "                 Class     Images  Instances      Box(P          R      mAP50  mAP50-95): 100%|██████████| 8/8 [00:13<00:00,  1.64s/it]"
     ]
    },
    {
     "name": "stdout",
     "output_type": "stream",
     "text": [
      "                   all         61       1624      0.462      0.114      0.114      0.097\n"
     ]
    },
    {
     "name": "stderr",
     "output_type": "stream",
     "text": [
      "\n"
     ]
    },
    {
     "name": "stdout",
     "output_type": "stream",
     "text": [
      "\n",
      "      Epoch    GPU_mem   box_loss   cls_loss   dfl_loss  Instances       Size\n"
     ]
    },
    {
     "name": "stderr",
     "output_type": "stream",
     "text": [
      "       5/10         0G     0.5705      3.863     0.8269         27        640: 100%|██████████| 142/142 [03:24<00:00,  1.44s/it]\n",
      "                 Class     Images  Instances      Box(P          R      mAP50  mAP50-95): 100%|██████████| 8/8 [00:13<00:00,  1.63s/it]"
     ]
    },
    {
     "name": "stdout",
     "output_type": "stream",
     "text": [
      "                   all         61       1624      0.512      0.127      0.137      0.117\n"
     ]
    },
    {
     "name": "stderr",
     "output_type": "stream",
     "text": [
      "\n"
     ]
    },
    {
     "name": "stdout",
     "output_type": "stream",
     "text": [
      "\n",
      "      Epoch    GPU_mem   box_loss   cls_loss   dfl_loss  Instances       Size\n"
     ]
    },
    {
     "name": "stderr",
     "output_type": "stream",
     "text": [
      "       6/10         0G      0.546      3.773     0.8242         22        640: 100%|██████████| 142/142 [03:23<00:00,  1.43s/it]\n",
      "                 Class     Images  Instances      Box(P          R      mAP50  mAP50-95): 100%|██████████| 8/8 [00:12<00:00,  1.59s/it]"
     ]
    },
    {
     "name": "stdout",
     "output_type": "stream",
     "text": [
      "                   all         61       1624      0.561      0.125      0.155      0.135\n"
     ]
    },
    {
     "name": "stderr",
     "output_type": "stream",
     "text": [
      "\n"
     ]
    },
    {
     "name": "stdout",
     "output_type": "stream",
     "text": [
      "\n",
      "      Epoch    GPU_mem   box_loss   cls_loss   dfl_loss  Instances       Size\n"
     ]
    },
    {
     "name": "stderr",
     "output_type": "stream",
     "text": [
      "       7/10         0G     0.5392      3.682     0.8227         25        640: 100%|██████████| 142/142 [03:24<00:00,  1.44s/it]\n",
      "                 Class     Images  Instances      Box(P          R      mAP50  mAP50-95): 100%|██████████| 8/8 [00:12<00:00,  1.57s/it]"
     ]
    },
    {
     "name": "stdout",
     "output_type": "stream",
     "text": [
      "                   all         61       1624       0.56      0.148      0.168      0.147\n"
     ]
    },
    {
     "name": "stderr",
     "output_type": "stream",
     "text": [
      "\n"
     ]
    },
    {
     "name": "stdout",
     "output_type": "stream",
     "text": [
      "\n",
      "      Epoch    GPU_mem   box_loss   cls_loss   dfl_loss  Instances       Size\n"
     ]
    },
    {
     "name": "stderr",
     "output_type": "stream",
     "text": [
      "       8/10         0G     0.5309      3.605     0.8242         12        640: 100%|██████████| 142/142 [03:29<00:00,  1.48s/it]\n",
      "                 Class     Images  Instances      Box(P          R      mAP50  mAP50-95): 100%|██████████| 8/8 [00:12<00:00,  1.61s/it]"
     ]
    },
    {
     "name": "stdout",
     "output_type": "stream",
     "text": [
      "                   all         61       1624      0.535      0.162      0.177      0.155\n"
     ]
    },
    {
     "name": "stderr",
     "output_type": "stream",
     "text": [
      "\n"
     ]
    },
    {
     "name": "stdout",
     "output_type": "stream",
     "text": [
      "\n",
      "      Epoch    GPU_mem   box_loss   cls_loss   dfl_loss  Instances       Size\n"
     ]
    },
    {
     "name": "stderr",
     "output_type": "stream",
     "text": [
      "       9/10         0G     0.5261      3.582      0.822         33        640: 100%|██████████| 142/142 [03:34<00:00,  1.51s/it]\n",
      "                 Class     Images  Instances      Box(P          R      mAP50  mAP50-95): 100%|██████████| 8/8 [00:12<00:00,  1.52s/it]"
     ]
    },
    {
     "name": "stdout",
     "output_type": "stream",
     "text": [
      "                   all         61       1624      0.575       0.16      0.181      0.158\n"
     ]
    },
    {
     "name": "stderr",
     "output_type": "stream",
     "text": [
      "\n"
     ]
    },
    {
     "name": "stdout",
     "output_type": "stream",
     "text": [
      "\n",
      "      Epoch    GPU_mem   box_loss   cls_loss   dfl_loss  Instances       Size\n"
     ]
    },
    {
     "name": "stderr",
     "output_type": "stream",
     "text": [
      "      10/10         0G     0.5216      3.536      0.816         16        640: 100%|██████████| 142/142 [03:35<00:00,  1.52s/it]\n",
      "                 Class     Images  Instances      Box(P          R      mAP50  mAP50-95): 100%|██████████| 8/8 [00:12<00:00,  1.55s/it]"
     ]
    },
    {
     "name": "stdout",
     "output_type": "stream",
     "text": [
      "                   all         61       1624      0.571      0.164      0.184      0.162\n"
     ]
    },
    {
     "name": "stderr",
     "output_type": "stream",
     "text": [
      "\n"
     ]
    },
    {
     "name": "stdout",
     "output_type": "stream",
     "text": [
      "\n",
      "10 epochs completed in 0.615 hours.\n",
      "Optimizer stripped from E:\\Project\\araska\\runs\\detect\\train11\\weights\\last.pt, 5.9MB\n",
      "Optimizer stripped from E:\\Project\\araska\\runs\\detect\\train11\\weights\\best.pt, 5.9MB\n",
      "\n",
      "Validating E:\\Project\\araska\\runs\\detect\\train11\\weights\\best.pt...\n",
      "Ultralytics 8.3.107  Python-3.12.3 torch-2.6.0+cu118 CPU (AMD Ryzen 5 5600H with Radeon Graphics)\n",
      "YOLO11n summary (fused): 100 layers, 2,796,664 parameters, 0 gradients, 7.5 GFLOPs\n"
     ]
    },
    {
     "name": "stderr",
     "output_type": "stream",
     "text": [
      "                 Class     Images  Instances      Box(P          R      mAP50  mAP50-95): 100%|██████████| 8/8 [00:21<00:00,  2.72s/it]\n"
     ]
    },
    {
     "name": "stdout",
     "output_type": "stream",
     "text": [
      "                   all         61       1624      0.524      0.159      0.175      0.151\n",
      "                    -S          1          1          0          0          0          0\n",
      "                    -g          1          1          0          0          0          0\n",
      "                    -k          8          8          1          0      0.186      0.186\n",
      "                    -l          4          4          1          0      0.102      0.102\n",
      "                    -n         26         28      0.664      0.141      0.664      0.649\n",
      "                    -p          2          2          1          0          0          0\n",
      "                    -s          4          4          1          0      0.174      0.174\n",
      "                    -t          5          5          0          0     0.0409     0.0396\n",
      "                     A          7          7          0          0          0          0\n",
      "                    Bu          4          4          0          0          0          0\n",
      "                     G          1          1          0          0          0          0\n",
      "                    Gu          1          1          0          0          0          0\n",
      "                     I         10         10          1          0          0          0\n",
      "                     K          3          3          1          0          0          0\n",
      "                     N          3          3          0          0          0          0\n",
      "                    Nu          1          1          0          0          0          0\n",
      "                     O          1          1          0          0          0          0\n",
      "                     P          3          3          0          0          0          0\n",
      "                    Pr          1          1          0          0          0          0\n",
      "                     S          5          5          1          0     0.0306     0.0262\n",
      "                    Sr          1          1          1          0          0          0\n",
      "                    Sw          1          1          1          0          0          0\n",
      "                     T          1          1          0          0          0          0\n",
      "                    Tu          1          1          1          0          0          0\n",
      "                     U          3          3          0          0          0          0\n",
      "                    _b          8          8          1          0    0.00939    0.00845\n",
      "                   _bu          4          6          0          0          0          0\n",
      "                    _c          8          9          0          0          0          0\n",
      "                   _cr          1          1          0          0          0          0\n",
      "                   _cu          1          1          1          0          0          0\n",
      "                    _d          9          9      0.618          1      0.995      0.816\n",
      "                   _dh          3          3          1          0          0          0\n",
      "                   _du          1          1          0          0          0          0\n",
      "                    _h          5          5          1          0          0          0\n",
      "                   _h1         12         12      0.681      0.358      0.597       0.55\n",
      "                    _j          3          3          1          0          0          0\n",
      "                   _ju          1          1          1          0          0          0\n",
      "                    _k          4          4          1          0          0          0\n",
      "                    _l          9         10          0          0          0          0\n",
      "                    _m          5          6          1          0     0.0922      0.083\n",
      "                   _mu          1          1          0          0          0          0\n",
      "                    _p          7          9          0          0          0          0\n",
      "                   _pu          2          2          0          0          0          0\n",
      "                   _r1         12         12      0.657          1      0.959      0.754\n",
      "                    _s         11         12          1          0    0.00754    0.00669\n",
      "                    _t         12         13          0          0     0.0484     0.0392\n",
      "                   _th          3          3          0          0          0          0\n",
      "                 adeg2         10         10          1          0          0          0\n",
      "                   alt          6          9          0          0          0          0\n",
      "                     b         22         24          0          0     0.0379     0.0341\n",
      "                    bu          4          4          1          0          0          0\n",
      "                     c         16         20      0.128       0.15      0.101     0.0929\n",
      "                     d         20         24          1          0     0.0991     0.0891\n",
      "                    dh         13         17          1          0          0          0\n",
      "                    du          3          3          1          0          0          0\n",
      "                     e         43         74      0.822      0.986      0.985      0.878\n",
      "                    e1         50        126      0.699          1      0.977      0.876\n",
      "                   eng          7          7          1          0          0          0\n",
      "                     g         25         30      0.363      0.733      0.504      0.462\n",
      "                    gn          1          1          0          0          0          0\n",
      "                    gu          2          2          1          0          0          0\n",
      "                     h         33         45      0.271      0.622       0.27      0.251\n",
      "                    hu          4          5          1          0     0.0879     0.0879\n",
      "                     i         52        136      0.673      0.985      0.941      0.652\n",
      "                     j         13         17          1          0      0.441      0.402\n",
      "                     k         51         82       0.44      0.988       0.87        0.8\n",
      "                   kom         45        105      0.735          1      0.942      0.666\n",
      "                    ku         16         16          1      0.101       0.49      0.474\n",
      "                     l         48         73      0.438      0.589      0.473      0.437\n",
      "                    ln          1          1          0          0          0          0\n",
      "                    lu          3          3          0          0          0          0\n",
      "                     m         30         38      0.278      0.947      0.798      0.724\n",
      "                    mu          4          6          1          0          0          0\n",
      "                     n         48         96      0.399      0.979      0.675      0.617\n",
      "                    ng         38         62      0.843      0.387      0.704      0.466\n",
      "                   nga         27         34     0.0696     0.0294     0.0675     0.0612\n",
      "                    nu          9          9          1          0          0          0\n",
      "                   ny1          2          2          1          0          0          0\n",
      "                  nyu1          1          1          1          0          0          0\n",
      "                     o         35         54      0.768          1      0.984      0.811\n",
      "                     p         22         30      0.572        0.8      0.777      0.699\n",
      "                    pu          3          3          1          0          0          0\n",
      "                     r         30         44      0.451      0.876      0.625      0.545\n",
      "                    ru          6          7          0          0     0.0047    0.00376\n",
      "                     s         43         66      0.663      0.545      0.657      0.598\n",
      "                    sn          1          1          0          0          0          0\n",
      "                   sre          1          1          1          0          0          0\n",
      "                    su          7          7          1          0          0          0\n",
      "                     t         29         37     0.0856     0.0541      0.195      0.178\n",
      "                    th          1          1          0          0          0          0\n",
      "                    tn          1          1          0          0          0          0\n",
      "                    tu          4          4          1          0          0          0\n",
      "                     w         27         34          0          0       0.12      0.111\n",
      "                    wu          1          1          1          0          0          0\n",
      "                     y         15         16          1          0      0.056     0.0528\n",
      "                    yu          3          4          0          0          0          0\n",
      "Speed: 1.6ms preprocess, 166.7ms inference, 0.0ms loss, 183.9ms postprocess per image\n",
      "Results saved to \u001B[1mE:\\Project\\araska\\runs\\detect\\train11\u001B[0m\n"
     ]
    }
   ],
   "execution_count": 22
  },
  {
   "metadata": {
    "ExecuteTime": {
     "end_time": "2025-05-06T23:56:10.065614Z",
     "start_time": "2025-05-06T23:56:05.531627Z"
    }
   },
   "cell_type": "code",
   "source": [
    "import cv2\n",
    "from ultralytics import YOLO\n",
    "model = YOLO(\"runs/detect/train11/weights/best.pt\")\n",
    "# load image using OpenCV\n",
    "img = cv2.imread(\"datasets/v1/valid/images/4_png.rf.8666c45d971553a3bb88124c605b8d24.jpg\")\n",
    "def getColours(cls_num):\n",
    "    base_colors = [(255, 0, 0), (0, 255, 0), (0, 0, 255)]\n",
    "    color_index = cls_num % len(base_colors)\n",
    "    increments = [(1, -2, 1), (-2, 1, -1), (1, -1, 2)]\n",
    "    color = [base_colors[color_index][i] + increments[color_index][i] * (cls_num // len(base_colors)) % 256 for i in range(3)]\n",
    "    return tuple(color)\n",
    "\n",
    "results = model.track(img, conf=0.2, show=True)\n",
    "\n",
    "for result in results:\n",
    "    classes_names = result.names\n",
    "\n",
    "    for box in result.boxes:\n",
    "        if box.conf[0] > 0.2:\n",
    "            [x1, y1, x2, y2] = box.xyxy[0]\n",
    "            x1, y1, x2, y2 = int(x1), int(y1), int(x2), int(y2)\n",
    "            cls = int(box.cls[0])\n",
    "            class_name = classes_names[cls]\n",
    "            colour = getColours(cls)\n",
    "            cv2.rectangle(img, (x1, y1), (x2, y2), colour, 2)\n",
    "            cv2.putText(img, f'{classes_names[int(box.ccls[0])]}{box.conf[0]:.2f}', (x1, y1), cv2.FONT_HERSHEY_SIMPLEX, 1, colour, 2)\n",
    "            cv2.imshow('image', img)\n",
    "            if cv2.waitKey(1) & 0xFF == ord('q'):\n",
    "                break"
   ],
   "id": "6c6daebdfaa8e45",
   "outputs": [
    {
     "name": "stdout",
     "output_type": "stream",
     "text": [
      "\n",
      "0: 512x640 1 _r1, 3 e1s, 2 is, 1 k, 7 koms, 1 l, 1 m, 1 n, 1 ng, 85.6ms\n",
      "Speed: 2.2ms preprocess, 85.6ms inference, 2.0ms postprocess per image at shape (1, 3, 512, 640)\n"
     ]
    },
    {
     "ename": "AttributeError",
     "evalue": "'Boxes' object has no attribute 'ccls'. See valid attributes below.\n\n    A class for managing and manipulating detection boxes.\n\n    This class provides functionality for handling detection boxes, including their coordinates, confidence scores,\n    class labels, and optional tracking IDs. It supports various box formats and offers methods for easy manipulation\n    and conversion between different coordinate systems.\n\n    Attributes:\n        data (torch.Tensor | numpy.ndarray): The raw tensor containing detection boxes and associated data.\n        orig_shape (Tuple[int, int]): The original image dimensions (height, width).\n        is_track (bool): Indicates whether tracking IDs are included in the box data.\n        xyxy (torch.Tensor | numpy.ndarray): Boxes in [x1, y1, x2, y2] format.\n        conf (torch.Tensor | numpy.ndarray): Confidence scores for each box.\n        cls (torch.Tensor | numpy.ndarray): Class labels for each box.\n        id (torch.Tensor | None): Tracking IDs for each box (if available).\n        xywh (torch.Tensor | numpy.ndarray): Boxes in [x, y, width, height] format.\n        xyxyn (torch.Tensor | numpy.ndarray): Normalized [x1, y1, x2, y2] boxes relative to orig_shape.\n        xywhn (torch.Tensor | numpy.ndarray): Normalized [x, y, width, height] boxes relative to orig_shape.\n\n    Methods:\n        cpu(): Returns a copy of the object with all tensors on CPU memory.\n        numpy(): Returns a copy of the object with all tensors as numpy arrays.\n        cuda(): Returns a copy of the object with all tensors on GPU memory.\n        to(*args, **kwargs): Returns a copy of the object with tensors on specified device and dtype.\n\n    Examples:\n        >>> import torch\n        >>> boxes_data = torch.tensor([[100, 50, 150, 100, 0.9, 0], [200, 150, 300, 250, 0.8, 1]])\n        >>> orig_shape = (480, 640)  # height, width\n        >>> boxes = Boxes(boxes_data, orig_shape)\n        >>> print(boxes.xyxy)\n        >>> print(boxes.conf)\n        >>> print(boxes.cls)\n        >>> print(boxes.xywhn)\n    ",
     "output_type": "error",
     "traceback": [
      "\u001B[31m---------------------------------------------------------------------------\u001B[39m",
      "\u001B[31mAttributeError\u001B[39m                            Traceback (most recent call last)",
      "\u001B[36mCell\u001B[39m\u001B[36m \u001B[39m\u001B[32mIn[1]\u001B[39m\u001B[32m, line 26\u001B[39m\n\u001B[32m     24\u001B[39m colour = getColours(\u001B[38;5;28mcls\u001B[39m)\n\u001B[32m     25\u001B[39m cv2.rectangle(img, (x1, y1), (x2, y2), colour, \u001B[32m2\u001B[39m)\n\u001B[32m---> \u001B[39m\u001B[32m26\u001B[39m cv2.putText(img, \u001B[33mf\u001B[39m\u001B[33m'\u001B[39m\u001B[38;5;132;01m{\u001B[39;00mclasses_names[\u001B[38;5;28mint\u001B[39m(\u001B[43mbox\u001B[49m\u001B[43m.\u001B[49m\u001B[43mccls\u001B[49m[\u001B[32m0\u001B[39m])]\u001B[38;5;132;01m}\u001B[39;00m\u001B[38;5;132;01m{\u001B[39;00mbox.conf[\u001B[32m0\u001B[39m]\u001B[38;5;132;01m:\u001B[39;00m\u001B[33m.2f\u001B[39m\u001B[38;5;132;01m}\u001B[39;00m\u001B[33m'\u001B[39m, (x1, y1), cv2.FONT_HERSHEY_SIMPLEX, \u001B[32m1\u001B[39m, colour, \u001B[32m2\u001B[39m)\n\u001B[32m     27\u001B[39m cv2.imshow(\u001B[33m'\u001B[39m\u001B[33mimage\u001B[39m\u001B[33m'\u001B[39m, img)\n\u001B[32m     28\u001B[39m \u001B[38;5;28;01mif\u001B[39;00m cv2.waitKey(\u001B[32m1\u001B[39m) & \u001B[32m0xFF\u001B[39m == \u001B[38;5;28mord\u001B[39m(\u001B[33m'\u001B[39m\u001B[33mq\u001B[39m\u001B[33m'\u001B[39m):\n",
      "\u001B[36mFile \u001B[39m\u001B[32mE:\\Project\\araska\\.env\\Lib\\site-packages\\ultralytics\\utils\\__init__.py:241\u001B[39m, in \u001B[36mSimpleClass.__getattr__\u001B[39m\u001B[34m(self, attr)\u001B[39m\n\u001B[32m    239\u001B[39m \u001B[38;5;250m\u001B[39m\u001B[33;03m\"\"\"Custom attribute access error message with helpful information.\"\"\"\u001B[39;00m\n\u001B[32m    240\u001B[39m name = \u001B[38;5;28mself\u001B[39m.\u001B[34m__class__\u001B[39m.\u001B[34m__name__\u001B[39m\n\u001B[32m--> \u001B[39m\u001B[32m241\u001B[39m \u001B[38;5;28;01mraise\u001B[39;00m \u001B[38;5;167;01mAttributeError\u001B[39;00m(\u001B[33mf\u001B[39m\u001B[33m\"\u001B[39m\u001B[33m'\u001B[39m\u001B[38;5;132;01m{\u001B[39;00mname\u001B[38;5;132;01m}\u001B[39;00m\u001B[33m'\u001B[39m\u001B[33m object has no attribute \u001B[39m\u001B[33m'\u001B[39m\u001B[38;5;132;01m{\u001B[39;00mattr\u001B[38;5;132;01m}\u001B[39;00m\u001B[33m'\u001B[39m\u001B[33m. See valid attributes below.\u001B[39m\u001B[38;5;130;01m\\n\u001B[39;00m\u001B[38;5;132;01m{\u001B[39;00m\u001B[38;5;28mself\u001B[39m.\u001B[34m__doc__\u001B[39m\u001B[38;5;132;01m}\u001B[39;00m\u001B[33m\"\u001B[39m)\n",
      "\u001B[31mAttributeError\u001B[39m: 'Boxes' object has no attribute 'ccls'. See valid attributes below.\n\n    A class for managing and manipulating detection boxes.\n\n    This class provides functionality for handling detection boxes, including their coordinates, confidence scores,\n    class labels, and optional tracking IDs. It supports various box formats and offers methods for easy manipulation\n    and conversion between different coordinate systems.\n\n    Attributes:\n        data (torch.Tensor | numpy.ndarray): The raw tensor containing detection boxes and associated data.\n        orig_shape (Tuple[int, int]): The original image dimensions (height, width).\n        is_track (bool): Indicates whether tracking IDs are included in the box data.\n        xyxy (torch.Tensor | numpy.ndarray): Boxes in [x1, y1, x2, y2] format.\n        conf (torch.Tensor | numpy.ndarray): Confidence scores for each box.\n        cls (torch.Tensor | numpy.ndarray): Class labels for each box.\n        id (torch.Tensor | None): Tracking IDs for each box (if available).\n        xywh (torch.Tensor | numpy.ndarray): Boxes in [x, y, width, height] format.\n        xyxyn (torch.Tensor | numpy.ndarray): Normalized [x1, y1, x2, y2] boxes relative to orig_shape.\n        xywhn (torch.Tensor | numpy.ndarray): Normalized [x, y, width, height] boxes relative to orig_shape.\n\n    Methods:\n        cpu(): Returns a copy of the object with all tensors on CPU memory.\n        numpy(): Returns a copy of the object with all tensors as numpy arrays.\n        cuda(): Returns a copy of the object with all tensors on GPU memory.\n        to(*args, **kwargs): Returns a copy of the object with tensors on specified device and dtype.\n\n    Examples:\n        >>> import torch\n        >>> boxes_data = torch.tensor([[100, 50, 150, 100, 0.9, 0], [200, 150, 300, 250, 0.8, 1]])\n        >>> orig_shape = (480, 640)  # height, width\n        >>> boxes = Boxes(boxes_data, orig_shape)\n        >>> print(boxes.xyxy)\n        >>> print(boxes.conf)\n        >>> print(boxes.cls)\n        >>> print(boxes.xywhn)\n    "
     ]
    }
   ],
   "execution_count": 1
  },
  {
   "metadata": {
    "ExecuteTime": {
     "end_time": "2025-05-06T11:35:31.363165Z",
     "start_time": "2025-05-06T11:35:31.295334Z"
    }
   },
   "cell_type": "code",
   "outputs": [
    {
     "name": "stdout",
     "output_type": "stream",
     "text": [
      "loading checkpoint runs/detect/train11/weights/best.pt\n"
     ]
    },
    {
     "data": {
      "text/plain": [
       "YOLO(\n",
       "  (model): DetectionModel(\n",
       "    (model): Sequential(\n",
       "      (0): Conv(\n",
       "        (conv): Conv2d(3, 16, kernel_size=(3, 3), stride=(2, 2), padding=(1, 1), bias=False)\n",
       "        (bn): BatchNorm2d(16, eps=0.001, momentum=0.03, affine=True, track_running_stats=True)\n",
       "        (act): SiLU(inplace=True)\n",
       "      )\n",
       "      (1): Conv(\n",
       "        (conv): Conv2d(16, 32, kernel_size=(3, 3), stride=(2, 2), padding=(1, 1), bias=False)\n",
       "        (bn): BatchNorm2d(32, eps=0.001, momentum=0.03, affine=True, track_running_stats=True)\n",
       "        (act): SiLU(inplace=True)\n",
       "      )\n",
       "      (2): C3k2(\n",
       "        (cv1): Conv(\n",
       "          (conv): Conv2d(32, 32, kernel_size=(1, 1), stride=(1, 1), bias=False)\n",
       "          (bn): BatchNorm2d(32, eps=0.001, momentum=0.03, affine=True, track_running_stats=True)\n",
       "          (act): SiLU(inplace=True)\n",
       "        )\n",
       "        (cv2): Conv(\n",
       "          (conv): Conv2d(48, 64, kernel_size=(1, 1), stride=(1, 1), bias=False)\n",
       "          (bn): BatchNorm2d(64, eps=0.001, momentum=0.03, affine=True, track_running_stats=True)\n",
       "          (act): SiLU(inplace=True)\n",
       "        )\n",
       "        (m): ModuleList(\n",
       "          (0): Bottleneck(\n",
       "            (cv1): Conv(\n",
       "              (conv): Conv2d(16, 8, kernel_size=(3, 3), stride=(1, 1), padding=(1, 1), bias=False)\n",
       "              (bn): BatchNorm2d(8, eps=0.001, momentum=0.03, affine=True, track_running_stats=True)\n",
       "              (act): SiLU(inplace=True)\n",
       "            )\n",
       "            (cv2): Conv(\n",
       "              (conv): Conv2d(8, 16, kernel_size=(3, 3), stride=(1, 1), padding=(1, 1), bias=False)\n",
       "              (bn): BatchNorm2d(16, eps=0.001, momentum=0.03, affine=True, track_running_stats=True)\n",
       "              (act): SiLU(inplace=True)\n",
       "            )\n",
       "          )\n",
       "        )\n",
       "      )\n",
       "      (3): Conv(\n",
       "        (conv): Conv2d(64, 64, kernel_size=(3, 3), stride=(2, 2), padding=(1, 1), bias=False)\n",
       "        (bn): BatchNorm2d(64, eps=0.001, momentum=0.03, affine=True, track_running_stats=True)\n",
       "        (act): SiLU(inplace=True)\n",
       "      )\n",
       "      (4): C3k2(\n",
       "        (cv1): Conv(\n",
       "          (conv): Conv2d(64, 64, kernel_size=(1, 1), stride=(1, 1), bias=False)\n",
       "          (bn): BatchNorm2d(64, eps=0.001, momentum=0.03, affine=True, track_running_stats=True)\n",
       "          (act): SiLU(inplace=True)\n",
       "        )\n",
       "        (cv2): Conv(\n",
       "          (conv): Conv2d(96, 128, kernel_size=(1, 1), stride=(1, 1), bias=False)\n",
       "          (bn): BatchNorm2d(128, eps=0.001, momentum=0.03, affine=True, track_running_stats=True)\n",
       "          (act): SiLU(inplace=True)\n",
       "        )\n",
       "        (m): ModuleList(\n",
       "          (0): Bottleneck(\n",
       "            (cv1): Conv(\n",
       "              (conv): Conv2d(32, 16, kernel_size=(3, 3), stride=(1, 1), padding=(1, 1), bias=False)\n",
       "              (bn): BatchNorm2d(16, eps=0.001, momentum=0.03, affine=True, track_running_stats=True)\n",
       "              (act): SiLU(inplace=True)\n",
       "            )\n",
       "            (cv2): Conv(\n",
       "              (conv): Conv2d(16, 32, kernel_size=(3, 3), stride=(1, 1), padding=(1, 1), bias=False)\n",
       "              (bn): BatchNorm2d(32, eps=0.001, momentum=0.03, affine=True, track_running_stats=True)\n",
       "              (act): SiLU(inplace=True)\n",
       "            )\n",
       "          )\n",
       "        )\n",
       "      )\n",
       "      (5): Conv(\n",
       "        (conv): Conv2d(128, 128, kernel_size=(3, 3), stride=(2, 2), padding=(1, 1), bias=False)\n",
       "        (bn): BatchNorm2d(128, eps=0.001, momentum=0.03, affine=True, track_running_stats=True)\n",
       "        (act): SiLU(inplace=True)\n",
       "      )\n",
       "      (6): C3k2(\n",
       "        (cv1): Conv(\n",
       "          (conv): Conv2d(128, 128, kernel_size=(1, 1), stride=(1, 1), bias=False)\n",
       "          (bn): BatchNorm2d(128, eps=0.001, momentum=0.03, affine=True, track_running_stats=True)\n",
       "          (act): SiLU(inplace=True)\n",
       "        )\n",
       "        (cv2): Conv(\n",
       "          (conv): Conv2d(192, 128, kernel_size=(1, 1), stride=(1, 1), bias=False)\n",
       "          (bn): BatchNorm2d(128, eps=0.001, momentum=0.03, affine=True, track_running_stats=True)\n",
       "          (act): SiLU(inplace=True)\n",
       "        )\n",
       "        (m): ModuleList(\n",
       "          (0): C3k(\n",
       "            (cv1): Conv(\n",
       "              (conv): Conv2d(64, 32, kernel_size=(1, 1), stride=(1, 1), bias=False)\n",
       "              (bn): BatchNorm2d(32, eps=0.001, momentum=0.03, affine=True, track_running_stats=True)\n",
       "              (act): SiLU(inplace=True)\n",
       "            )\n",
       "            (cv2): Conv(\n",
       "              (conv): Conv2d(64, 32, kernel_size=(1, 1), stride=(1, 1), bias=False)\n",
       "              (bn): BatchNorm2d(32, eps=0.001, momentum=0.03, affine=True, track_running_stats=True)\n",
       "              (act): SiLU(inplace=True)\n",
       "            )\n",
       "            (cv3): Conv(\n",
       "              (conv): Conv2d(64, 64, kernel_size=(1, 1), stride=(1, 1), bias=False)\n",
       "              (bn): BatchNorm2d(64, eps=0.001, momentum=0.03, affine=True, track_running_stats=True)\n",
       "              (act): SiLU(inplace=True)\n",
       "            )\n",
       "            (m): Sequential(\n",
       "              (0): Bottleneck(\n",
       "                (cv1): Conv(\n",
       "                  (conv): Conv2d(32, 32, kernel_size=(3, 3), stride=(1, 1), padding=(1, 1), bias=False)\n",
       "                  (bn): BatchNorm2d(32, eps=0.001, momentum=0.03, affine=True, track_running_stats=True)\n",
       "                  (act): SiLU(inplace=True)\n",
       "                )\n",
       "                (cv2): Conv(\n",
       "                  (conv): Conv2d(32, 32, kernel_size=(3, 3), stride=(1, 1), padding=(1, 1), bias=False)\n",
       "                  (bn): BatchNorm2d(32, eps=0.001, momentum=0.03, affine=True, track_running_stats=True)\n",
       "                  (act): SiLU(inplace=True)\n",
       "                )\n",
       "              )\n",
       "              (1): Bottleneck(\n",
       "                (cv1): Conv(\n",
       "                  (conv): Conv2d(32, 32, kernel_size=(3, 3), stride=(1, 1), padding=(1, 1), bias=False)\n",
       "                  (bn): BatchNorm2d(32, eps=0.001, momentum=0.03, affine=True, track_running_stats=True)\n",
       "                  (act): SiLU(inplace=True)\n",
       "                )\n",
       "                (cv2): Conv(\n",
       "                  (conv): Conv2d(32, 32, kernel_size=(3, 3), stride=(1, 1), padding=(1, 1), bias=False)\n",
       "                  (bn): BatchNorm2d(32, eps=0.001, momentum=0.03, affine=True, track_running_stats=True)\n",
       "                  (act): SiLU(inplace=True)\n",
       "                )\n",
       "              )\n",
       "            )\n",
       "          )\n",
       "        )\n",
       "      )\n",
       "      (7): Conv(\n",
       "        (conv): Conv2d(128, 256, kernel_size=(3, 3), stride=(2, 2), padding=(1, 1), bias=False)\n",
       "        (bn): BatchNorm2d(256, eps=0.001, momentum=0.03, affine=True, track_running_stats=True)\n",
       "        (act): SiLU(inplace=True)\n",
       "      )\n",
       "      (8): C3k2(\n",
       "        (cv1): Conv(\n",
       "          (conv): Conv2d(256, 256, kernel_size=(1, 1), stride=(1, 1), bias=False)\n",
       "          (bn): BatchNorm2d(256, eps=0.001, momentum=0.03, affine=True, track_running_stats=True)\n",
       "          (act): SiLU(inplace=True)\n",
       "        )\n",
       "        (cv2): Conv(\n",
       "          (conv): Conv2d(384, 256, kernel_size=(1, 1), stride=(1, 1), bias=False)\n",
       "          (bn): BatchNorm2d(256, eps=0.001, momentum=0.03, affine=True, track_running_stats=True)\n",
       "          (act): SiLU(inplace=True)\n",
       "        )\n",
       "        (m): ModuleList(\n",
       "          (0): C3k(\n",
       "            (cv1): Conv(\n",
       "              (conv): Conv2d(128, 64, kernel_size=(1, 1), stride=(1, 1), bias=False)\n",
       "              (bn): BatchNorm2d(64, eps=0.001, momentum=0.03, affine=True, track_running_stats=True)\n",
       "              (act): SiLU(inplace=True)\n",
       "            )\n",
       "            (cv2): Conv(\n",
       "              (conv): Conv2d(128, 64, kernel_size=(1, 1), stride=(1, 1), bias=False)\n",
       "              (bn): BatchNorm2d(64, eps=0.001, momentum=0.03, affine=True, track_running_stats=True)\n",
       "              (act): SiLU(inplace=True)\n",
       "            )\n",
       "            (cv3): Conv(\n",
       "              (conv): Conv2d(128, 128, kernel_size=(1, 1), stride=(1, 1), bias=False)\n",
       "              (bn): BatchNorm2d(128, eps=0.001, momentum=0.03, affine=True, track_running_stats=True)\n",
       "              (act): SiLU(inplace=True)\n",
       "            )\n",
       "            (m): Sequential(\n",
       "              (0): Bottleneck(\n",
       "                (cv1): Conv(\n",
       "                  (conv): Conv2d(64, 64, kernel_size=(3, 3), stride=(1, 1), padding=(1, 1), bias=False)\n",
       "                  (bn): BatchNorm2d(64, eps=0.001, momentum=0.03, affine=True, track_running_stats=True)\n",
       "                  (act): SiLU(inplace=True)\n",
       "                )\n",
       "                (cv2): Conv(\n",
       "                  (conv): Conv2d(64, 64, kernel_size=(3, 3), stride=(1, 1), padding=(1, 1), bias=False)\n",
       "                  (bn): BatchNorm2d(64, eps=0.001, momentum=0.03, affine=True, track_running_stats=True)\n",
       "                  (act): SiLU(inplace=True)\n",
       "                )\n",
       "              )\n",
       "              (1): Bottleneck(\n",
       "                (cv1): Conv(\n",
       "                  (conv): Conv2d(64, 64, kernel_size=(3, 3), stride=(1, 1), padding=(1, 1), bias=False)\n",
       "                  (bn): BatchNorm2d(64, eps=0.001, momentum=0.03, affine=True, track_running_stats=True)\n",
       "                  (act): SiLU(inplace=True)\n",
       "                )\n",
       "                (cv2): Conv(\n",
       "                  (conv): Conv2d(64, 64, kernel_size=(3, 3), stride=(1, 1), padding=(1, 1), bias=False)\n",
       "                  (bn): BatchNorm2d(64, eps=0.001, momentum=0.03, affine=True, track_running_stats=True)\n",
       "                  (act): SiLU(inplace=True)\n",
       "                )\n",
       "              )\n",
       "            )\n",
       "          )\n",
       "        )\n",
       "      )\n",
       "      (9): SPPF(\n",
       "        (cv1): Conv(\n",
       "          (conv): Conv2d(256, 128, kernel_size=(1, 1), stride=(1, 1), bias=False)\n",
       "          (bn): BatchNorm2d(128, eps=0.001, momentum=0.03, affine=True, track_running_stats=True)\n",
       "          (act): SiLU(inplace=True)\n",
       "        )\n",
       "        (cv2): Conv(\n",
       "          (conv): Conv2d(512, 256, kernel_size=(1, 1), stride=(1, 1), bias=False)\n",
       "          (bn): BatchNorm2d(256, eps=0.001, momentum=0.03, affine=True, track_running_stats=True)\n",
       "          (act): SiLU(inplace=True)\n",
       "        )\n",
       "        (m): MaxPool2d(kernel_size=5, stride=1, padding=2, dilation=1, ceil_mode=False)\n",
       "      )\n",
       "      (10): C2PSA(\n",
       "        (cv1): Conv(\n",
       "          (conv): Conv2d(256, 256, kernel_size=(1, 1), stride=(1, 1), bias=False)\n",
       "          (bn): BatchNorm2d(256, eps=0.001, momentum=0.03, affine=True, track_running_stats=True)\n",
       "          (act): SiLU(inplace=True)\n",
       "        )\n",
       "        (cv2): Conv(\n",
       "          (conv): Conv2d(256, 256, kernel_size=(1, 1), stride=(1, 1), bias=False)\n",
       "          (bn): BatchNorm2d(256, eps=0.001, momentum=0.03, affine=True, track_running_stats=True)\n",
       "          (act): SiLU(inplace=True)\n",
       "        )\n",
       "        (m): Sequential(\n",
       "          (0): PSABlock(\n",
       "            (attn): Attention(\n",
       "              (qkv): Conv(\n",
       "                (conv): Conv2d(128, 256, kernel_size=(1, 1), stride=(1, 1), bias=False)\n",
       "                (bn): BatchNorm2d(256, eps=0.001, momentum=0.03, affine=True, track_running_stats=True)\n",
       "                (act): Identity()\n",
       "              )\n",
       "              (proj): Conv(\n",
       "                (conv): Conv2d(128, 128, kernel_size=(1, 1), stride=(1, 1), bias=False)\n",
       "                (bn): BatchNorm2d(128, eps=0.001, momentum=0.03, affine=True, track_running_stats=True)\n",
       "                (act): Identity()\n",
       "              )\n",
       "              (pe): Conv(\n",
       "                (conv): Conv2d(128, 128, kernel_size=(3, 3), stride=(1, 1), padding=(1, 1), groups=128, bias=False)\n",
       "                (bn): BatchNorm2d(128, eps=0.001, momentum=0.03, affine=True, track_running_stats=True)\n",
       "                (act): Identity()\n",
       "              )\n",
       "            )\n",
       "            (ffn): Sequential(\n",
       "              (0): Conv(\n",
       "                (conv): Conv2d(128, 256, kernel_size=(1, 1), stride=(1, 1), bias=False)\n",
       "                (bn): BatchNorm2d(256, eps=0.001, momentum=0.03, affine=True, track_running_stats=True)\n",
       "                (act): SiLU(inplace=True)\n",
       "              )\n",
       "              (1): Conv(\n",
       "                (conv): Conv2d(256, 128, kernel_size=(1, 1), stride=(1, 1), bias=False)\n",
       "                (bn): BatchNorm2d(128, eps=0.001, momentum=0.03, affine=True, track_running_stats=True)\n",
       "                (act): Identity()\n",
       "              )\n",
       "            )\n",
       "          )\n",
       "        )\n",
       "      )\n",
       "      (11): Upsample(scale_factor=2.0, mode='nearest')\n",
       "      (12): Concat()\n",
       "      (13): C3k2(\n",
       "        (cv1): Conv(\n",
       "          (conv): Conv2d(384, 128, kernel_size=(1, 1), stride=(1, 1), bias=False)\n",
       "          (bn): BatchNorm2d(128, eps=0.001, momentum=0.03, affine=True, track_running_stats=True)\n",
       "          (act): SiLU(inplace=True)\n",
       "        )\n",
       "        (cv2): Conv(\n",
       "          (conv): Conv2d(192, 128, kernel_size=(1, 1), stride=(1, 1), bias=False)\n",
       "          (bn): BatchNorm2d(128, eps=0.001, momentum=0.03, affine=True, track_running_stats=True)\n",
       "          (act): SiLU(inplace=True)\n",
       "        )\n",
       "        (m): ModuleList(\n",
       "          (0): Bottleneck(\n",
       "            (cv1): Conv(\n",
       "              (conv): Conv2d(64, 32, kernel_size=(3, 3), stride=(1, 1), padding=(1, 1), bias=False)\n",
       "              (bn): BatchNorm2d(32, eps=0.001, momentum=0.03, affine=True, track_running_stats=True)\n",
       "              (act): SiLU(inplace=True)\n",
       "            )\n",
       "            (cv2): Conv(\n",
       "              (conv): Conv2d(32, 64, kernel_size=(3, 3), stride=(1, 1), padding=(1, 1), bias=False)\n",
       "              (bn): BatchNorm2d(64, eps=0.001, momentum=0.03, affine=True, track_running_stats=True)\n",
       "              (act): SiLU(inplace=True)\n",
       "            )\n",
       "          )\n",
       "        )\n",
       "      )\n",
       "      (14): Upsample(scale_factor=2.0, mode='nearest')\n",
       "      (15): Concat()\n",
       "      (16): C3k2(\n",
       "        (cv1): Conv(\n",
       "          (conv): Conv2d(256, 64, kernel_size=(1, 1), stride=(1, 1), bias=False)\n",
       "          (bn): BatchNorm2d(64, eps=0.001, momentum=0.03, affine=True, track_running_stats=True)\n",
       "          (act): SiLU(inplace=True)\n",
       "        )\n",
       "        (cv2): Conv(\n",
       "          (conv): Conv2d(96, 64, kernel_size=(1, 1), stride=(1, 1), bias=False)\n",
       "          (bn): BatchNorm2d(64, eps=0.001, momentum=0.03, affine=True, track_running_stats=True)\n",
       "          (act): SiLU(inplace=True)\n",
       "        )\n",
       "        (m): ModuleList(\n",
       "          (0): Bottleneck(\n",
       "            (cv1): Conv(\n",
       "              (conv): Conv2d(32, 16, kernel_size=(3, 3), stride=(1, 1), padding=(1, 1), bias=False)\n",
       "              (bn): BatchNorm2d(16, eps=0.001, momentum=0.03, affine=True, track_running_stats=True)\n",
       "              (act): SiLU(inplace=True)\n",
       "            )\n",
       "            (cv2): Conv(\n",
       "              (conv): Conv2d(16, 32, kernel_size=(3, 3), stride=(1, 1), padding=(1, 1), bias=False)\n",
       "              (bn): BatchNorm2d(32, eps=0.001, momentum=0.03, affine=True, track_running_stats=True)\n",
       "              (act): SiLU(inplace=True)\n",
       "            )\n",
       "          )\n",
       "        )\n",
       "      )\n",
       "      (17): Conv(\n",
       "        (conv): Conv2d(64, 64, kernel_size=(3, 3), stride=(2, 2), padding=(1, 1), bias=False)\n",
       "        (bn): BatchNorm2d(64, eps=0.001, momentum=0.03, affine=True, track_running_stats=True)\n",
       "        (act): SiLU(inplace=True)\n",
       "      )\n",
       "      (18): Concat()\n",
       "      (19): C3k2(\n",
       "        (cv1): Conv(\n",
       "          (conv): Conv2d(192, 128, kernel_size=(1, 1), stride=(1, 1), bias=False)\n",
       "          (bn): BatchNorm2d(128, eps=0.001, momentum=0.03, affine=True, track_running_stats=True)\n",
       "          (act): SiLU(inplace=True)\n",
       "        )\n",
       "        (cv2): Conv(\n",
       "          (conv): Conv2d(192, 128, kernel_size=(1, 1), stride=(1, 1), bias=False)\n",
       "          (bn): BatchNorm2d(128, eps=0.001, momentum=0.03, affine=True, track_running_stats=True)\n",
       "          (act): SiLU(inplace=True)\n",
       "        )\n",
       "        (m): ModuleList(\n",
       "          (0): Bottleneck(\n",
       "            (cv1): Conv(\n",
       "              (conv): Conv2d(64, 32, kernel_size=(3, 3), stride=(1, 1), padding=(1, 1), bias=False)\n",
       "              (bn): BatchNorm2d(32, eps=0.001, momentum=0.03, affine=True, track_running_stats=True)\n",
       "              (act): SiLU(inplace=True)\n",
       "            )\n",
       "            (cv2): Conv(\n",
       "              (conv): Conv2d(32, 64, kernel_size=(3, 3), stride=(1, 1), padding=(1, 1), bias=False)\n",
       "              (bn): BatchNorm2d(64, eps=0.001, momentum=0.03, affine=True, track_running_stats=True)\n",
       "              (act): SiLU(inplace=True)\n",
       "            )\n",
       "          )\n",
       "        )\n",
       "      )\n",
       "      (20): Conv(\n",
       "        (conv): Conv2d(128, 128, kernel_size=(3, 3), stride=(2, 2), padding=(1, 1), bias=False)\n",
       "        (bn): BatchNorm2d(128, eps=0.001, momentum=0.03, affine=True, track_running_stats=True)\n",
       "        (act): SiLU(inplace=True)\n",
       "      )\n",
       "      (21): Concat()\n",
       "      (22): C3k2(\n",
       "        (cv1): Conv(\n",
       "          (conv): Conv2d(384, 256, kernel_size=(1, 1), stride=(1, 1), bias=False)\n",
       "          (bn): BatchNorm2d(256, eps=0.001, momentum=0.03, affine=True, track_running_stats=True)\n",
       "          (act): SiLU(inplace=True)\n",
       "        )\n",
       "        (cv2): Conv(\n",
       "          (conv): Conv2d(384, 256, kernel_size=(1, 1), stride=(1, 1), bias=False)\n",
       "          (bn): BatchNorm2d(256, eps=0.001, momentum=0.03, affine=True, track_running_stats=True)\n",
       "          (act): SiLU(inplace=True)\n",
       "        )\n",
       "        (m): ModuleList(\n",
       "          (0): C3k(\n",
       "            (cv1): Conv(\n",
       "              (conv): Conv2d(128, 64, kernel_size=(1, 1), stride=(1, 1), bias=False)\n",
       "              (bn): BatchNorm2d(64, eps=0.001, momentum=0.03, affine=True, track_running_stats=True)\n",
       "              (act): SiLU(inplace=True)\n",
       "            )\n",
       "            (cv2): Conv(\n",
       "              (conv): Conv2d(128, 64, kernel_size=(1, 1), stride=(1, 1), bias=False)\n",
       "              (bn): BatchNorm2d(64, eps=0.001, momentum=0.03, affine=True, track_running_stats=True)\n",
       "              (act): SiLU(inplace=True)\n",
       "            )\n",
       "            (cv3): Conv(\n",
       "              (conv): Conv2d(128, 128, kernel_size=(1, 1), stride=(1, 1), bias=False)\n",
       "              (bn): BatchNorm2d(128, eps=0.001, momentum=0.03, affine=True, track_running_stats=True)\n",
       "              (act): SiLU(inplace=True)\n",
       "            )\n",
       "            (m): Sequential(\n",
       "              (0): Bottleneck(\n",
       "                (cv1): Conv(\n",
       "                  (conv): Conv2d(64, 64, kernel_size=(3, 3), stride=(1, 1), padding=(1, 1), bias=False)\n",
       "                  (bn): BatchNorm2d(64, eps=0.001, momentum=0.03, affine=True, track_running_stats=True)\n",
       "                  (act): SiLU(inplace=True)\n",
       "                )\n",
       "                (cv2): Conv(\n",
       "                  (conv): Conv2d(64, 64, kernel_size=(3, 3), stride=(1, 1), padding=(1, 1), bias=False)\n",
       "                  (bn): BatchNorm2d(64, eps=0.001, momentum=0.03, affine=True, track_running_stats=True)\n",
       "                  (act): SiLU(inplace=True)\n",
       "                )\n",
       "              )\n",
       "              (1): Bottleneck(\n",
       "                (cv1): Conv(\n",
       "                  (conv): Conv2d(64, 64, kernel_size=(3, 3), stride=(1, 1), padding=(1, 1), bias=False)\n",
       "                  (bn): BatchNorm2d(64, eps=0.001, momentum=0.03, affine=True, track_running_stats=True)\n",
       "                  (act): SiLU(inplace=True)\n",
       "                )\n",
       "                (cv2): Conv(\n",
       "                  (conv): Conv2d(64, 64, kernel_size=(3, 3), stride=(1, 1), padding=(1, 1), bias=False)\n",
       "                  (bn): BatchNorm2d(64, eps=0.001, momentum=0.03, affine=True, track_running_stats=True)\n",
       "                  (act): SiLU(inplace=True)\n",
       "                )\n",
       "              )\n",
       "            )\n",
       "          )\n",
       "        )\n",
       "      )\n",
       "      (23): Detect(\n",
       "        (cv2): ModuleList(\n",
       "          (0): Sequential(\n",
       "            (0): Conv(\n",
       "              (conv): Conv2d(64, 64, kernel_size=(3, 3), stride=(1, 1), padding=(1, 1), bias=False)\n",
       "              (bn): BatchNorm2d(64, eps=0.001, momentum=0.03, affine=True, track_running_stats=True)\n",
       "              (act): SiLU(inplace=True)\n",
       "            )\n",
       "            (1): Conv(\n",
       "              (conv): Conv2d(64, 64, kernel_size=(3, 3), stride=(1, 1), padding=(1, 1), bias=False)\n",
       "              (bn): BatchNorm2d(64, eps=0.001, momentum=0.03, affine=True, track_running_stats=True)\n",
       "              (act): SiLU(inplace=True)\n",
       "            )\n",
       "            (2): Conv2d(64, 64, kernel_size=(1, 1), stride=(1, 1))\n",
       "          )\n",
       "          (1): Sequential(\n",
       "            (0): Conv(\n",
       "              (conv): Conv2d(128, 64, kernel_size=(3, 3), stride=(1, 1), padding=(1, 1), bias=False)\n",
       "              (bn): BatchNorm2d(64, eps=0.001, momentum=0.03, affine=True, track_running_stats=True)\n",
       "              (act): SiLU(inplace=True)\n",
       "            )\n",
       "            (1): Conv(\n",
       "              (conv): Conv2d(64, 64, kernel_size=(3, 3), stride=(1, 1), padding=(1, 1), bias=False)\n",
       "              (bn): BatchNorm2d(64, eps=0.001, momentum=0.03, affine=True, track_running_stats=True)\n",
       "              (act): SiLU(inplace=True)\n",
       "            )\n",
       "            (2): Conv2d(64, 64, kernel_size=(1, 1), stride=(1, 1))\n",
       "          )\n",
       "          (2): Sequential(\n",
       "            (0): Conv(\n",
       "              (conv): Conv2d(256, 64, kernel_size=(3, 3), stride=(1, 1), padding=(1, 1), bias=False)\n",
       "              (bn): BatchNorm2d(64, eps=0.001, momentum=0.03, affine=True, track_running_stats=True)\n",
       "              (act): SiLU(inplace=True)\n",
       "            )\n",
       "            (1): Conv(\n",
       "              (conv): Conv2d(64, 64, kernel_size=(3, 3), stride=(1, 1), padding=(1, 1), bias=False)\n",
       "              (bn): BatchNorm2d(64, eps=0.001, momentum=0.03, affine=True, track_running_stats=True)\n",
       "              (act): SiLU(inplace=True)\n",
       "            )\n",
       "            (2): Conv2d(64, 64, kernel_size=(1, 1), stride=(1, 1))\n",
       "          )\n",
       "        )\n",
       "        (cv3): ModuleList(\n",
       "          (0): Sequential(\n",
       "            (0): Sequential(\n",
       "              (0): DWConv(\n",
       "                (conv): Conv2d(64, 64, kernel_size=(3, 3), stride=(1, 1), padding=(1, 1), groups=64, bias=False)\n",
       "                (bn): BatchNorm2d(64, eps=0.001, momentum=0.03, affine=True, track_running_stats=True)\n",
       "                (act): SiLU(inplace=True)\n",
       "              )\n",
       "              (1): Conv(\n",
       "                (conv): Conv2d(64, 100, kernel_size=(1, 1), stride=(1, 1), bias=False)\n",
       "                (bn): BatchNorm2d(100, eps=0.001, momentum=0.03, affine=True, track_running_stats=True)\n",
       "                (act): SiLU(inplace=True)\n",
       "              )\n",
       "            )\n",
       "            (1): Sequential(\n",
       "              (0): DWConv(\n",
       "                (conv): Conv2d(100, 100, kernel_size=(3, 3), stride=(1, 1), padding=(1, 1), groups=100, bias=False)\n",
       "                (bn): BatchNorm2d(100, eps=0.001, momentum=0.03, affine=True, track_running_stats=True)\n",
       "                (act): SiLU(inplace=True)\n",
       "              )\n",
       "              (1): Conv(\n",
       "                (conv): Conv2d(100, 100, kernel_size=(1, 1), stride=(1, 1), bias=False)\n",
       "                (bn): BatchNorm2d(100, eps=0.001, momentum=0.03, affine=True, track_running_stats=True)\n",
       "                (act): SiLU(inplace=True)\n",
       "              )\n",
       "            )\n",
       "            (2): Conv2d(100, 592, kernel_size=(1, 1), stride=(1, 1))\n",
       "          )\n",
       "          (1): Sequential(\n",
       "            (0): Sequential(\n",
       "              (0): DWConv(\n",
       "                (conv): Conv2d(128, 128, kernel_size=(3, 3), stride=(1, 1), padding=(1, 1), groups=128, bias=False)\n",
       "                (bn): BatchNorm2d(128, eps=0.001, momentum=0.03, affine=True, track_running_stats=True)\n",
       "                (act): SiLU(inplace=True)\n",
       "              )\n",
       "              (1): Conv(\n",
       "                (conv): Conv2d(128, 100, kernel_size=(1, 1), stride=(1, 1), bias=False)\n",
       "                (bn): BatchNorm2d(100, eps=0.001, momentum=0.03, affine=True, track_running_stats=True)\n",
       "                (act): SiLU(inplace=True)\n",
       "              )\n",
       "            )\n",
       "            (1): Sequential(\n",
       "              (0): DWConv(\n",
       "                (conv): Conv2d(100, 100, kernel_size=(3, 3), stride=(1, 1), padding=(1, 1), groups=100, bias=False)\n",
       "                (bn): BatchNorm2d(100, eps=0.001, momentum=0.03, affine=True, track_running_stats=True)\n",
       "                (act): SiLU(inplace=True)\n",
       "              )\n",
       "              (1): Conv(\n",
       "                (conv): Conv2d(100, 100, kernel_size=(1, 1), stride=(1, 1), bias=False)\n",
       "                (bn): BatchNorm2d(100, eps=0.001, momentum=0.03, affine=True, track_running_stats=True)\n",
       "                (act): SiLU(inplace=True)\n",
       "              )\n",
       "            )\n",
       "            (2): Conv2d(100, 592, kernel_size=(1, 1), stride=(1, 1))\n",
       "          )\n",
       "          (2): Sequential(\n",
       "            (0): Sequential(\n",
       "              (0): DWConv(\n",
       "                (conv): Conv2d(256, 256, kernel_size=(3, 3), stride=(1, 1), padding=(1, 1), groups=256, bias=False)\n",
       "                (bn): BatchNorm2d(256, eps=0.001, momentum=0.03, affine=True, track_running_stats=True)\n",
       "                (act): SiLU(inplace=True)\n",
       "              )\n",
       "              (1): Conv(\n",
       "                (conv): Conv2d(256, 100, kernel_size=(1, 1), stride=(1, 1), bias=False)\n",
       "                (bn): BatchNorm2d(100, eps=0.001, momentum=0.03, affine=True, track_running_stats=True)\n",
       "                (act): SiLU(inplace=True)\n",
       "              )\n",
       "            )\n",
       "            (1): Sequential(\n",
       "              (0): DWConv(\n",
       "                (conv): Conv2d(100, 100, kernel_size=(3, 3), stride=(1, 1), padding=(1, 1), groups=100, bias=False)\n",
       "                (bn): BatchNorm2d(100, eps=0.001, momentum=0.03, affine=True, track_running_stats=True)\n",
       "                (act): SiLU(inplace=True)\n",
       "              )\n",
       "              (1): Conv(\n",
       "                (conv): Conv2d(100, 100, kernel_size=(1, 1), stride=(1, 1), bias=False)\n",
       "                (bn): BatchNorm2d(100, eps=0.001, momentum=0.03, affine=True, track_running_stats=True)\n",
       "                (act): SiLU(inplace=True)\n",
       "              )\n",
       "            )\n",
       "            (2): Conv2d(100, 592, kernel_size=(1, 1), stride=(1, 1))\n",
       "          )\n",
       "        )\n",
       "        (dfl): DFL(\n",
       "          (conv): Conv2d(16, 1, kernel_size=(1, 1), stride=(1, 1), bias=False)\n",
       "        )\n",
       "      )\n",
       "    )\n",
       "  )\n",
       ")"
      ]
     },
     "execution_count": 70,
     "metadata": {},
     "output_type": "execute_result"
    }
   ],
   "execution_count": 70,
   "source": [
    "from ultralytics import YOLO\n",
    "\n",
    "# Load the best model we have so far:\n",
    "model_file = \"runs/detect/train11/weights/best.pt\"\n",
    "print(f\"loading checkpoint {model_file}\")\n",
    "model = YOLO(model_file)\n",
    "model.to(\"cpu\")\n",
    "\n"
   ],
   "id": "5ed61458120f6f6a"
  },
  {
   "metadata": {
    "ExecuteTime": {
     "end_time": "2025-05-06T11:51:35.037255Z",
     "start_time": "2025-05-06T11:51:34.987572Z"
    }
   },
   "cell_type": "code",
   "source": [
    "def read_labels(file_name):\n",
    "  \"\"\"\n",
    "    Reads a label file\n",
    "  \"\"\"\n",
    "\n",
    "  with open(file_name, \"r\") as f:\n",
    "    lines = f.read().splitlines()\n",
    "\n",
    "  labels = []\n",
    "  for line in lines:\n",
    "    label = [float(n) for n in line.split(\" \")]\n",
    "    label = int(label[0]), label[1:]\n",
    "    labels.append(label)\n",
    "  return labels\n",
    "\n",
    "\n",
    "def plot(rgb, labels, class_names=['-B', '-G', '-K', '-N', '-Ny', '-P', '-S', '-T', '-b', '-c', '-d', '-dh', '-g', '-j', '-k', '-l', '-m', '-n', '-ny', '-p', '-r', '-s', '-t', '-th', '-w', '-y', '0', '4', '5', '6', 'A', 'B', 'Bn', 'Bnu', 'Br', 'Bre', 'Bru', 'Bu', 'Bw', 'Bwr', 'Bwre', 'Bwru', 'Bwu', 'By', 'Byu', 'E', 'G', 'Gn', 'Gnu', 'Gr', 'Gre', 'Gru', 'Gu', 'Gw', 'Gwr', 'Gwre', 'Gwru', 'Gwu', 'Gy', 'Gyu', 'I', 'K', 'Kn', 'Knu', 'Kr', 'Kre', 'Kru', 'Ku', 'Kw', 'Kwr', 'Kwre', 'Kwru', 'Kwu', 'Ky', 'Kyu', 'N', 'Nn', 'Nnu', 'Nr', 'Nre', 'Nru', 'Nu', 'Nw', 'Nwr', 'Nwre', 'Nwru', 'Nwu', 'Ny', 'Ny1', 'Nyn', 'Nynu', 'Nyr', 'Nyre', 'Nyru', 'Nyu', 'Nyu1', 'Nyw', 'Nywr', 'Nywre', 'Nywru', 'Nywu', 'Nyy', 'Nyyu', 'O', 'P', 'Pn', 'Pnu', 'Pr', 'Pre', 'Pru', 'Pu', 'Pw', 'Pwr', 'Pwre', 'Pwru', 'Pwu', 'Py', 'Pyu', 'S', 'Sn', 'Snu', 'Sr', 'Sre', 'Sru', 'Su', 'Sw', 'Swr', 'Swre', 'Swru', 'Swu', 'Sy', 'Syu', 'T', 'Tn', 'Tnu', 'Tr', 'Tre', 'Tru', 'Tu', 'Tw', 'Twr', 'Twre', 'Twru', 'Twu', 'Ty', 'Tyu', 'U', '_P', '_Pr', '_Pre', '_Pru', '_Pu', '_Py', '_Pyu', '_T', '_Tr', '_Tre', '_Tru', '_Tu', '_b', '_br', '_bre', '_bru', '_bu', '_c', '_cr', '_cre', '_cru', '_cu', '_d', '_dh', '_dhr', '_dhre', '_dhru', '_dhu', '_dr', '_dre', '_dru', '_du', '_h', '_h1', '_hr', '_hre', '_hru', '_hu', '_hy', '_hyu', '_j', '_jr', '_jre', '_jru', '_ju', '_k', '_l', '_m', '_mr', '_mre', '_mru', '_mu', '_p', '_pr', '_pre', '_pru', '_pu', '_py', '_pyu', '_r', '_r1', '_s', '_sr', '_sre', '_sru', '_su', '_sy', '_syu', '_t', '_th', '_thr', '_thre', '_thru', '_thu', 'adeg2', 'alt', 'apit', 'b', 'bn', 'bnu', 'bny', 'bnyu', 'br', 'bre', 'bru', 'bu', 'bw', 'bwr', 'bwre', 'bwru', 'bwu', 'bwy', 'bwyu', 'by', 'byu', 'c', 'cn', 'cnu', 'cny', 'cnyu', 'cr', 'cre', 'cru', 'cu', 'cw', 'cwr', 'cwre', 'cwru', 'cwu', 'cwy', 'cwyu', 'cy', 'cyu', 'd', 'dh', 'dhn', 'dhnu', 'dhny', 'dhnyu', 'dhr', 'dhre', 'dhru', 'dhu', 'dhw', 'dhwr', 'dhwre', 'dhwru', 'dhwu', 'dhwy', 'dhwyu', 'dhy', 'dhyu', 'dn', 'dnu', 'dny', 'dnyu', 'dr', 'dre', 'dru', 'du', 'dw', 'dwr', 'dwre', 'dwru', 'dwu', 'dwy', 'dwyu', 'dy', 'dyu', 'e', 'e1', 'ealt', 'eng', 'g', 'gn', 'gnu', 'gny', 'gnyu', 'gr', 'gre', 'gru', 'gu', 'gw', 'gwr', 'gwre', 'gwru', 'gwu', 'gwy', 'gwyu', 'gy', 'gyu', 'h', 'hn', 'hnu', 'hny', 'hnyu', 'hr', 'hre', 'hru', 'hu', 'hw', 'hwr', 'hwre', 'hwru', 'hwu', 'hwy', 'hwyu', 'hy', 'hyu', 'i', 'j', 'jn', 'jnu', 'jny', 'jnyu', 'jr', 'jre', 'jru', 'ju', 'jw', 'jwr', 'jwre', 'jwru', 'jwu', 'jwy', 'jwyu', 'jy', 'jyu', 'k', 'kn', 'knu', 'kny', 'knyu', 'kom', 'kr', 'kre', 'kru', 'ku', 'kw', 'kwr', 'kwre', 'kwru', 'kwu', 'kwy', 'kwyu', 'ky', 'kyu', 'l', 'ln', 'lnu', 'lny', 'lnyu', 'lr', 'lre', 'lru', 'lu', 'lw', 'lwr', 'lwre', 'lwru', 'lwu', 'lwy', 'lwyu', 'ly', 'lyu', 'm', 'mn', 'mnu', 'mny', 'mnyu', 'mr', 'mre', 'mru', 'mu', 'mw', 'mwr', 'mwre', 'mwru', 'mwu', 'mwy', 'mwyu', 'my', 'myu', 'n', 'ng', 'nga', 'ngna', 'ngnu', 'ngnya', 'ngnyu', 'ngra', 'ngre', 'ngru', 'ngu', 'ngwa', 'ngwra', 'ngwre', 'ngwru', 'ngwu', 'ngwya', 'ngwyu', 'ngya', 'ngyu', 'nn', 'nnu', 'nny', 'nnyu', 'nr', 'nre', 'nru', 'nu', 'nw', 'nwr', 'nwre', 'nwru', 'nwu', 'nwy', 'nwyu', 'ny', 'ny1', 'nyn', 'nynu', 'nyny', 'nynyu', 'nyr', 'nyre', 'nyru', 'nyu', 'nyu1', 'nyw', 'nywr', 'nywre', 'nywru', 'nywu', 'nywy', 'nywyu', 'nyy', 'nyyu', 'o', 'p', 'pn', 'pnu', 'pny', 'pnyu', 'pr', 'pre', 'pru', 'pu', 'pw', 'pwr', 'pwre', 'pwru', 'pwu', 'pwy', 'pwyu', 'py', 'pyu', 'r', 'rn', 'rnu', 'rny', 'rnyu', 'rr', 'rre', 'rru', 'ru', 'rw', 'rwr', 'rwre', 'rwru', 'rwu', 'rwy', 'rwyu', 'ry', 'ryu', 's', 'sn', 'snu', 'sny', 'snyu', 'sr', 'sre', 'sru', 'su', 'sw', 'swr', 'swre', 'swru', 'swu', 'swy', 'swyu', 'sy', 'syu', 't', 'th', 'thn', 'thnu', 'thny', 'thnyu', 'thr', 'thre', 'thru', 'thu', 'thw', 'thwr', 'thwre', 'thwru', 'thwu', 'thwy', 'thwyu', 'thy', 'thyu', 'tn', 'tnu', 'tny', 'tnyu', 'tr', 'tre', 'tru', 'tu', 'tw', 'twr', 'twre', 'twru', 'twu', 'twy', 'twyu', 'ty', 'tyu', 'w', 'wn', 'wnu', 'wny', 'wnyu', 'wr', 'wre', 'wru', 'wu', 'ww', 'wwr', 'wwre', 'wwru', 'wwu', 'wwy', 'wwyu', 'wy', 'wyu', 'y', 'yn', 'ynu', 'yny', 'ynyu', 'yr', 'yre', 'yru', 'yu', 'yw', 'ywr', 'ywre', 'ywru', 'ywu', 'ywy', 'ywyu', 'yy', 'yyu']\n",
    "):\n",
    "  \"\"\"\n",
    "    Given an RGB image and its labels,\n",
    "    plots the image with the bounding boxes.\n",
    "  \"\"\"\n",
    "\n",
    "  plt.figure(figsize=(18, 8))\n",
    "  plt.imshow(rgb)\n",
    "\n",
    "  img_w, img_h = rgb.shape[1], rgb.shape[0]\n",
    "\n",
    "  ax = plt.gca()\n",
    "  for label in labels:\n",
    "    class_id, bbox = label\n",
    "    cx, cy, w, h = bbox\n",
    "\n",
    "    cx = img_w * cx\n",
    "    cy = img_h * cy\n",
    "    w = img_w * w\n",
    "    h = img_h * h\n",
    "\n",
    "    hw = w / 2\n",
    "    hh = h / 2\n",
    "\n",
    "    pt = (cx - hw, cy - hh)\n",
    "\n",
    "    if class_id == 0:\n",
    "      color = 'blue'\n",
    "    else:\n",
    "      color = 'red'\n",
    "\n",
    "    ax.add_patch(Rectangle(\n",
    "        pt, w, h,\n",
    "        edgecolor = color,\n",
    "        fill=None\n",
    "    ))\n",
    "\n",
    "    # Add class label above the bounding box\n",
    "    label_text = class_names[int(class_id)]\n",
    "    label_position = (cx - hw, cy - hh - 5)  # Slightly above the bbox\n",
    "    ax.text(\n",
    "      label_position[0], label_position[1],\n",
    "      label_text,\n",
    "      color=color,\n",
    "      fontsize=12,\n",
    "      fontweight='bold',\n",
    "      bbox=dict(facecolor='white', edgecolor=color, alpha=0.7)\n",
    "    )\n",
    "\n",
    "\n",
    "  plt.show()\n",
    "\n",
    "def plot_result(rgb, result, label=None, iou_threshold=0.5):\n",
    "    \"\"\"\n",
    "    Plot YOLO prediction results and compare with ground truth labels if provided.\n",
    "\n",
    "    Parameters:\n",
    "      - rgb: numpy array of the RGB image.\n",
    "      - result: YOLO prediction result.\n",
    "      - label: Optional ground truth labels [(class_id, [cx, cy, w, h]), ...].\n",
    "      - iou_threshold: IoU threshold to match predictions with ground truth.\n",
    "    \"\"\"\n",
    "    fig, ax = plt.subplots(figsize=(10, 10))\n",
    "    ax.imshow(rgb)\n",
    "\n",
    "    class_names = result.names\n",
    "    height, width, _ = rgb.shape\n",
    "\n",
    "    predictions = result.boxes.xywh.cpu().numpy()\n",
    "    pred_classes = result.boxes.cls.cpu().numpy()\n",
    "\n",
    "    gt_used = [False] * len(label) if label else []\n",
    "\n",
    "    for i, pred_box in enumerate(predictions):\n",
    "        pred_class_id = int(pred_classes[i])\n",
    "        pred_box = pred_box.tolist()\n",
    "        matched = False\n",
    "\n",
    "        if label:\n",
    "            for j, (gt_class_id, gt_box) in enumerate(label):\n",
    "                if not gt_used[j] and gt_class_id == pred_class_id:\n",
    "                    # Convert ground truth box to pixel values\n",
    "                    gt_box_pixel = convert_to_pixel_coords(gt_box, width, height)\n",
    "                    iou = calculate_iou(pred_box, gt_box_pixel)\n",
    "                    if iou >= iou_threshold:\n",
    "                        matched = True\n",
    "                        gt_used[j] = True\n",
    "                        break\n",
    "\n",
    "        color = 'green' if matched else 'red'\n",
    "        cx, cy, w, h = pred_box\n",
    "        hw, hh = w / 2, h / 2\n",
    "\n",
    "        ax.add_patch(Rectangle(\n",
    "            (cx - hw, cy - hh), w, h,\n",
    "            edgecolor=color,\n",
    "            fill=None,\n",
    "            linewidth=2\n",
    "        ))\n",
    "\n",
    "        label_text = f\"{class_names[pred_class_id]} ({iou:.2f})\" if matched else class_names[pred_class_id]\n",
    "        ax.text(\n",
    "            cx - hw, cy - hh - 5,\n",
    "            label_text,\n",
    "            color=color,\n",
    "            fontsize=10,\n",
    "            fontweight='bold',\n",
    "            bbox=dict(facecolor='white', edgecolor=color, alpha=0.7)\n",
    "        )\n",
    "\n",
    "    if label:\n",
    "        for gt_class_id, gt_box in label:\n",
    "            # Convert ground truth box to pixel values\n",
    "            gt_box_pixel = convert_to_pixel_coords(gt_box, width, height)\n",
    "            cx, cy, w, h = gt_box_pixel\n",
    "            hw, hh = w / 2, h / 2\n",
    "\n",
    "            ax.add_patch(Rectangle(\n",
    "                (cx - hw, cy - hh), w, h,\n",
    "                edgecolor='blue',\n",
    "                fill=None,\n",
    "                linestyle='--',\n",
    "                linewidth=1\n",
    "            ))\n",
    "\n",
    "    plt.show()\n"
   ],
   "id": "61b219b4f338deb0",
   "outputs": [],
   "execution_count": 98
  },
  {
   "metadata": {
    "ExecuteTime": {
     "end_time": "2025-05-06T11:52:53.513303Z",
     "start_time": "2025-05-06T11:52:53.418048Z"
    }
   },
   "cell_type": "code",
   "source": [
    "import cv2\n",
    "\n",
    "image = cv2.imread(\"datasets/v1/valid/images/4_png.rf.8666c45d971553a3bb88124c605b8d24.jpg\")\n",
    "rgb = cv2.cvtColor(image, cv2.COLOR_BGR2RGB)\n",
    "label_name = \"datasets/v1/valid/labels/4_png.rf.8666c45d971553a3bb88124c605b8d24.txt\"\n",
    "result = model.predict(rgb, conf=0.5, iou=0.3)[0]\n",
    "labels = read_labels(label_name)\n",
    "\n",
    "\n",
    "# remember to convert it to RGB if using OpenCV\n"
   ],
   "id": "8f7818a979c4d6e",
   "outputs": [
    {
     "name": "stdout",
     "output_type": "stream",
     "text": [
      "\n",
      "0: 512x640 1 _r1, 3 e1s, 1 i, 1 k, 5 koms, 1 m, 80.7ms\n",
      "Speed: 1.3ms preprocess, 80.7ms inference, 1.4ms postprocess per image at shape (1, 3, 512, 640)\n"
     ]
    }
   ],
   "execution_count": 104
  },
  {
   "metadata": {
    "ExecuteTime": {
     "end_time": "2025-05-06T11:52:56.810488Z",
     "start_time": "2025-05-06T11:52:56.783878Z"
    }
   },
   "cell_type": "code",
   "source": "plot_result(rgb, result, labels)",
   "id": "fe9a25b7792becff",
   "outputs": [
    {
     "data": {
      "text/plain": [
       "<Figure size 1000x1000 with 1 Axes>"
      ]
     },
     "metadata": {},
     "output_type": "display_data"
    }
   ],
   "execution_count": 110
  },
  {
   "metadata": {
    "ExecuteTime": {
     "end_time": "2025-05-06T11:35:37.483615Z",
     "start_time": "2025-05-06T11:35:37.098706Z"
    }
   },
   "cell_type": "code",
   "source": [
    "# predict returns a list of Results object.\n",
    "# Since we are running on a single image, we'll take the only one result\n",
    "results = model.predict(rgb)[0]"
   ],
   "id": "2ad3418c38088d0c",
   "outputs": [
    {
     "name": "stdout",
     "output_type": "stream",
     "text": [
      "\n",
      "0: 512x640 1 _d, 5 es, 1 e1, 2 is, 4 ks, 1 kom, 1 ku, 5 ns, 1 p, 243.5ms\n",
      "Speed: 11.5ms preprocess, 243.5ms inference, 14.2ms postprocess per image at shape (1, 3, 512, 640)\n"
     ]
    }
   ],
   "execution_count": 72
  },
  {
   "metadata": {
    "ExecuteTime": {
     "end_time": "2025-05-06T11:37:23.824791Z",
     "start_time": "2025-05-06T11:37:23.816513Z"
    }
   },
   "cell_type": "code",
   "source": [
    "from matplotlib import pyplot as plt\n",
    "from matplotlib.patches import Rectangle\n",
    "\n",
    "def convert_to_pixel_coords(box, img_width, img_height):\n",
    "    \"\"\"\n",
    "    Convert YOLO format box (cx, cy, w, h) to pixel coordinates.\n",
    "    \"\"\"\n",
    "    return [\n",
    "        box[0] * img_width,  # cx\n",
    "        box[1] * img_height, # cy\n",
    "        box[2] * img_width,  # w\n",
    "        box[3] * img_height  # h\n",
    "    ]\n",
    "\n",
    "def calculate_iou(box1, box2):\n",
    "    \"\"\"\n",
    "    Calculate Intersection over Union (IoU) for two bounding boxes.\n",
    "    Boxes are in the format (cx, cy, w, h).\n",
    "    \"\"\"\n",
    "    # Convert (cx, cy, w, h) to (x1, y1, x2, y2)\n",
    "    x1_box1, y1_box1 = box1[0] - box1[2] / 2, box1[1] - box1[3] / 2\n",
    "    x2_box1, y2_box1 = box1[0] + box1[2] / 2, box1[1] + box1[3] / 2\n",
    "\n",
    "    x1_box2, y1_box2 = box2[0] - box2[2] / 2, box2[1] - box2[3] / 2\n",
    "    x2_box2, y2_box2 = box2[0] + box2[2] / 2, box2[1] + box2[3] / 2\n",
    "\n",
    "    # Calculate intersection\n",
    "    inter_x1 = max(x1_box1, x1_box2)\n",
    "    inter_y1 = max(y1_box1, y1_box2)\n",
    "    inter_x2 = min(x2_box1, x2_box2)\n",
    "    inter_y2 = min(y2_box1, y2_box2)\n",
    "\n",
    "    inter_area = max(0, inter_x2 - inter_x1) * max(0, inter_y2 - inter_y1)\n",
    "\n",
    "    # Calculate union\n",
    "    box1_area = (x2_box1 - x1_box1) * (y2_box1 - y1_box1)\n",
    "    box2_area = (x2_box2 - x1_box2) * (y2_box2 - y1_box2)\n",
    "\n",
    "    union_area = box1_area + box2_area - inter_area\n",
    "\n",
    "    return inter_area / union_area if union_area > 0 else 0\n",
    "\n",
    "def plot_result(rgb, result, label=None, iou_threshold=0.5):\n",
    "    \"\"\"\n",
    "    Plot YOLO prediction results and compare with ground truth labels if provided.\n",
    "\n",
    "    Parameters:\n",
    "      - rgb: numpy array of the RGB image.\n",
    "      - result: YOLO prediction result.\n",
    "      - label: Optional ground truth labels [(class_id, [cx, cy, w, h]), ...].\n",
    "      - iou_threshold: IoU threshold to match predictions with ground truth.\n",
    "    \"\"\"\n",
    "    fig, ax = plt.subplots(figsize=(10, 10))\n",
    "    ax.imshow(rgb)\n",
    "\n",
    "    class_names = result.names\n",
    "    height, width, _ = rgb.shape\n",
    "\n",
    "    predictions = result.boxes.xywh.cpu().numpy()\n",
    "    pred_classes = result.boxes.cls.cpu().numpy()\n",
    "\n",
    "    gt_used = [False] * len(label) if label else []\n",
    "\n",
    "    for i, pred_box in enumerate(predictions):\n",
    "        pred_class_id = int(pred_classes[i])\n",
    "        pred_box = pred_box.tolist()\n",
    "        matched = False\n",
    "\n",
    "        if label:\n",
    "            for j, (gt_class_id, gt_box) in enumerate(label):\n",
    "                if not gt_used[j] and gt_class_id == pred_class_id:\n",
    "                    # Convert ground truth box to pixel values\n",
    "                    gt_box_pixel = convert_to_pixel_coords(gt_box, width, height)\n",
    "                    iou = calculate_iou(pred_box, gt_box_pixel)\n",
    "                    if iou >= iou_threshold:\n",
    "                        matched = True\n",
    "                        gt_used[j] = True\n",
    "                        break\n",
    "\n",
    "        color = 'green' if matched else 'red'\n",
    "        cx, cy, w, h = pred_box\n",
    "        hw, hh = w / 2, h / 2\n",
    "\n",
    "        ax.add_patch(Rectangle(\n",
    "            (cx - hw, cy - hh), w, h,\n",
    "            edgecolor=color,\n",
    "            fill=None,\n",
    "            linewidth=2\n",
    "        ))\n",
    "\n",
    "        label_text = f\"{class_names[pred_class_id]} ({iou:.2f})\" if matched else class_names[pred_class_id]\n",
    "        ax.text(\n",
    "            cx - hw, cy - hh - 5,\n",
    "            label_text,\n",
    "            color=color,\n",
    "            fontsize=10,\n",
    "            fontweight='bold',\n",
    "            bbox=dict(facecolor='white', edgecolor=color, alpha=0.7)\n",
    "        )\n",
    "\n",
    "    if label:\n",
    "        for gt_class_id, gt_box in label:\n",
    "            # Convert ground truth box to pixel values\n",
    "            gt_box_pixel = convert_to_pixel_coords(gt_box, width, height)\n",
    "            cx, cy, w, h = gt_box_pixel\n",
    "            hw, hh = w / 2, h / 2\n",
    "\n",
    "            ax.add_patch(Rectangle(\n",
    "                (cx - hw, cy - hh), w, h,\n",
    "                edgecolor='blue',\n",
    "                fill=None,\n",
    "                linestyle='--',\n",
    "                linewidth=1\n",
    "            ))\n",
    "\n",
    "    plt.show()\n"
   ],
   "id": "f71821754917f70a",
   "outputs": [],
   "execution_count": 74
  },
  {
   "metadata": {},
   "cell_type": "code",
   "outputs": [],
   "execution_count": null,
   "source": "for image_file:",
   "id": "14cbecd60e9afc73"
  }
 ],
 "metadata": {
  "kernelspec": {
   "display_name": "Python 3",
   "language": "python",
   "name": "python3"
  },
  "language_info": {
   "codemirror_mode": {
    "name": "ipython",
    "version": 2
   },
   "file_extension": ".py",
   "mimetype": "text/x-python",
   "name": "python",
   "nbconvert_exporter": "python",
   "pygments_lexer": "ipython2",
   "version": "2.7.6"
  }
 },
 "nbformat": 4,
 "nbformat_minor": 5
}
